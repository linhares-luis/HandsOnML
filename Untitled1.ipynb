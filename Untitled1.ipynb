{
 "cells": [
  {
   "cell_type": "code",
   "execution_count": 1,
   "id": "10790565-ef55-4e9a-bf26-f25b71638f6d",
   "metadata": {},
   "outputs": [
    {
     "name": "stdout",
     "output_type": "stream",
     "text": [
      "  PARENT_PART       CITY GOOD_OR_FAULTY  BARCELONA  MADRID\n",
      "0   KRC161262  BARCELONA           GOOD        1.0     NaN\n",
      "1   KRC161262     MADRID           GOOD        NaN     1.0\n",
      "2   KRC161833  BARCELONA           GOOD        1.0     NaN\n",
      "3   KRC161834  BARCELONA           GOOD        1.0     NaN\n",
      "4   KRC161834     MADRID          FAULT        NaN     1.0\n"
     ]
    }
   ],
   "source": [
    "import pandas as pd\n",
    "d = {'PARENT_PART': ['KRC161262', 'KRC161262', 'KRC161833', 'KRC161834', 'KRC161834'], 'CITY': ['BARCELONA', 'MADRID', 'BARCELONA', 'BARCELONA', 'MADRID'], 'GOOD_OR_FAULTY': ['GOOD', 'GOOD', 'GOOD','GOOD','FAULT']}\n",
    "\n",
    "df = pd.DataFrame(data=d)\n",
    "\n",
    "grouped1 = df.groupby(['PARENT_PART', 'CITY']).size().reset_index(name='counts')\n",
    "\n",
    "for index, row in grouped1.iterrows():    \n",
    "    ciudad = row['CITY']    \n",
    "    codigo = row['PARENT_PART']\n",
    "    counts = grouped1.loc[(grouped1['PARENT_PART'] == codigo) & (grouped1['CITY'] == ciudad), 'counts'].values[0]\n",
    "    df.loc[index, ciudad] = counts\n",
    "print(df)"
   ]
  },
  {
   "cell_type": "code",
   "execution_count": 3,
   "id": "f9ac0a24-eb7b-4c77-acb4-6b578a13874f",
   "metadata": {},
   "outputs": [
    {
     "data": {
      "text/html": [
       "<div>\n",
       "<style scoped>\n",
       "    .dataframe tbody tr th:only-of-type {\n",
       "        vertical-align: middle;\n",
       "    }\n",
       "\n",
       "    .dataframe tbody tr th {\n",
       "        vertical-align: top;\n",
       "    }\n",
       "\n",
       "    .dataframe thead th {\n",
       "        text-align: right;\n",
       "    }\n",
       "</style>\n",
       "<table border=\"1\" class=\"dataframe\">\n",
       "  <thead>\n",
       "    <tr style=\"text-align: right;\">\n",
       "      <th></th>\n",
       "      <th>CITY</th>\n",
       "      <th>GOOD_OR_FAULTY</th>\n",
       "      <th>BARCELONA</th>\n",
       "      <th>MADRID</th>\n",
       "    </tr>\n",
       "    <tr>\n",
       "      <th>PARENT_PART</th>\n",
       "      <th></th>\n",
       "      <th></th>\n",
       "      <th></th>\n",
       "      <th></th>\n",
       "    </tr>\n",
       "  </thead>\n",
       "  <tbody>\n",
       "    <tr>\n",
       "      <th>KRC161262</th>\n",
       "      <td>[BARCELONA, MADRID]</td>\n",
       "      <td>GOOD</td>\n",
       "      <td>1.0</td>\n",
       "      <td>1.0</td>\n",
       "    </tr>\n",
       "    <tr>\n",
       "      <th>KRC161833</th>\n",
       "      <td>BARCELONA</td>\n",
       "      <td>GOOD</td>\n",
       "      <td>1.0</td>\n",
       "      <td>[]</td>\n",
       "    </tr>\n",
       "    <tr>\n",
       "      <th>KRC161834</th>\n",
       "      <td>[BARCELONA, MADRID]</td>\n",
       "      <td>[FAULT, GOOD]</td>\n",
       "      <td>1.0</td>\n",
       "      <td>1.0</td>\n",
       "    </tr>\n",
       "  </tbody>\n",
       "</table>\n",
       "</div>"
      ],
      "text/plain": [
       "                            CITY GOOD_OR_FAULTY  BARCELONA MADRID\n",
       "PARENT_PART                                                      \n",
       "KRC161262    [BARCELONA, MADRID]           GOOD        1.0    1.0\n",
       "KRC161833              BARCELONA           GOOD        1.0     []\n",
       "KRC161834    [BARCELONA, MADRID]  [FAULT, GOOD]        1.0    1.0"
      ]
     },
     "execution_count": 3,
     "metadata": {},
     "output_type": "execute_result"
    }
   ],
   "source": [
    "df.groupby(df['PARENT_PART']).agg(pd.Series.mode)"
   ]
  },
  {
   "cell_type": "code",
   "execution_count": 8,
   "id": "c02c6abf-2969-4f75-ad83-84b2ebecc513",
   "metadata": {},
   "outputs": [
    {
     "data": {
      "text/html": [
       "<div>\n",
       "<style scoped>\n",
       "    .dataframe tbody tr th:only-of-type {\n",
       "        vertical-align: middle;\n",
       "    }\n",
       "\n",
       "    .dataframe tbody tr th {\n",
       "        vertical-align: top;\n",
       "    }\n",
       "\n",
       "    .dataframe thead th {\n",
       "        text-align: right;\n",
       "    }\n",
       "</style>\n",
       "<table border=\"1\" class=\"dataframe\">\n",
       "  <thead>\n",
       "    <tr style=\"text-align: right;\">\n",
       "      <th></th>\n",
       "      <th>PARENT_PART</th>\n",
       "      <th>CITY</th>\n",
       "      <th>GOOD_OR_FAULTY</th>\n",
       "    </tr>\n",
       "  </thead>\n",
       "  <tbody>\n",
       "    <tr>\n",
       "      <th>0</th>\n",
       "      <td>KRC161262</td>\n",
       "      <td>BARCELONA</td>\n",
       "      <td>GOOD</td>\n",
       "    </tr>\n",
       "    <tr>\n",
       "      <th>1</th>\n",
       "      <td>KRC161262</td>\n",
       "      <td>MADRID</td>\n",
       "      <td>GOOD</td>\n",
       "    </tr>\n",
       "    <tr>\n",
       "      <th>2</th>\n",
       "      <td>KRC161833</td>\n",
       "      <td>BARCELONA</td>\n",
       "      <td>GOOD</td>\n",
       "    </tr>\n",
       "    <tr>\n",
       "      <th>3</th>\n",
       "      <td>KRC161834</td>\n",
       "      <td>BARCELONA</td>\n",
       "      <td>GOOD</td>\n",
       "    </tr>\n",
       "    <tr>\n",
       "      <th>4</th>\n",
       "      <td>KRC161834</td>\n",
       "      <td>MADRID</td>\n",
       "      <td>FAULT</td>\n",
       "    </tr>\n",
       "  </tbody>\n",
       "</table>\n",
       "</div>"
      ],
      "text/plain": [
       "  PARENT_PART       CITY GOOD_OR_FAULTY\n",
       "0   KRC161262  BARCELONA           GOOD\n",
       "1   KRC161262     MADRID           GOOD\n",
       "2   KRC161833  BARCELONA           GOOD\n",
       "3   KRC161834  BARCELONA           GOOD\n",
       "4   KRC161834     MADRID          FAULT"
      ]
     },
     "execution_count": 8,
     "metadata": {},
     "output_type": "execute_result"
    }
   ],
   "source": [
    "d = {'PARENT_PART': ['KRC161262', 'KRC161262', 'KRC161833', 'KRC161834', 'KRC161834'], 'CITY': ['BARCELONA', 'MADRID', 'BARCELONA', 'BARCELONA', 'MADRID'], 'GOOD_OR_FAULTY': ['GOOD', 'GOOD', 'GOOD','GOOD','FAULT']}\n",
    "\n",
    "df = pd.DataFrame(data=d)\n",
    "df.head()"
   ]
  },
  {
   "cell_type": "code",
   "execution_count": 10,
   "id": "d494c45b-9dbd-4217-b729-bee86b6fc83f",
   "metadata": {},
   "outputs": [
    {
     "data": {
      "text/html": [
       "<div>\n",
       "<style scoped>\n",
       "    .dataframe tbody tr th:only-of-type {\n",
       "        vertical-align: middle;\n",
       "    }\n",
       "\n",
       "    .dataframe tbody tr th {\n",
       "        vertical-align: top;\n",
       "    }\n",
       "\n",
       "    .dataframe thead th {\n",
       "        text-align: right;\n",
       "    }\n",
       "</style>\n",
       "<table border=\"1\" class=\"dataframe\">\n",
       "  <thead>\n",
       "    <tr style=\"text-align: right;\">\n",
       "      <th>CITY</th>\n",
       "      <th>BARCELONA</th>\n",
       "      <th>MADRID</th>\n",
       "    </tr>\n",
       "    <tr>\n",
       "      <th>PARENT_PART</th>\n",
       "      <th></th>\n",
       "      <th></th>\n",
       "    </tr>\n",
       "  </thead>\n",
       "  <tbody>\n",
       "    <tr>\n",
       "      <th>KRC161262</th>\n",
       "      <td>GOOD</td>\n",
       "      <td>GOOD</td>\n",
       "    </tr>\n",
       "    <tr>\n",
       "      <th>KRC161833</th>\n",
       "      <td>GOOD</td>\n",
       "      <td>NaN</td>\n",
       "    </tr>\n",
       "    <tr>\n",
       "      <th>KRC161834</th>\n",
       "      <td>GOOD</td>\n",
       "      <td>FAULT</td>\n",
       "    </tr>\n",
       "  </tbody>\n",
       "</table>\n",
       "</div>"
      ],
      "text/plain": [
       "CITY        BARCELONA MADRID\n",
       "PARENT_PART                 \n",
       "KRC161262        GOOD   GOOD\n",
       "KRC161833        GOOD    NaN\n",
       "KRC161834        GOOD  FAULT"
      ]
     },
     "execution_count": 10,
     "metadata": {},
     "output_type": "execute_result"
    }
   ],
   "source": [
    "df.pivot(index='PARENT_PART', columns='CITY', values='GOOD_OR_FAULTY')"
   ]
  }
 ],
 "metadata": {
  "kernelspec": {
   "display_name": "Python 3 (ipykernel)",
   "language": "python",
   "name": "python3"
  },
  "language_info": {
   "codemirror_mode": {
    "name": "ipython",
    "version": 3
   },
   "file_extension": ".py",
   "mimetype": "text/x-python",
   "name": "python",
   "nbconvert_exporter": "python",
   "pygments_lexer": "ipython3",
   "version": "3.9.12"
  }
 },
 "nbformat": 4,
 "nbformat_minor": 5
}
