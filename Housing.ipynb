{
 "cells": [
  {
   "cell_type": "markdown",
   "id": "2ee85352-73a1-4189-a762-ea1da734e177",
   "metadata": {},
   "source": [
    "### Imports"
   ]
  },
  {
   "cell_type": "code",
   "execution_count": 1,
   "id": "8aa648e7-548f-45b0-9925-01d4bf051700",
   "metadata": {},
   "outputs": [],
   "source": [
    "from pathlib import Path\n",
    "import pandas as pd\n",
    "import tarfile\n",
    "import urllib.request\n",
    "import sys\n",
    "import sklearn\n",
    "import seaborn as sns"
   ]
  },
  {
   "cell_type": "markdown",
   "id": "de3bda2a-6cbd-4fb1-ac1f-31dac17c902d",
   "metadata": {},
   "source": [
    "### Download data"
   ]
  },
  {
   "cell_type": "code",
   "execution_count": 2,
   "id": "ff2a2e33-e62c-49bc-b57a-b98cfcd9e8e8",
   "metadata": {},
   "outputs": [],
   "source": [
    "def load_housing_data():\n",
    "    tarball_path = Path(\"datasets/housing.tgz\")\n",
    "    if not tarball_path.is_file():\n",
    "        Path(\"datasets\").mkdir(parents=True, exist_ok=True)\n",
    "        url = \"https://github.com/ageron/data/raw/main/housing.tgz\"\n",
    "        urllib.request.urlretrieve(url, tarball_path)\n",
    "        with tarfile.open(tarball_path) as housing_tarball:\n",
    "            housing_tarball.extractall(path=\"datasets\")\n",
    "    return pd.read_csv(Path(\"datasets/housing/housing.csv\"))\n",
    "housing = load_housing_data()"
   ]
  },
  {
   "cell_type": "code",
   "execution_count": 3,
   "id": "8eb09ff9-6661-422c-b8a2-7bb59bb011c2",
   "metadata": {},
   "outputs": [
    {
     "data": {
      "text/html": [
       "<div>\n",
       "<style scoped>\n",
       "    .dataframe tbody tr th:only-of-type {\n",
       "        vertical-align: middle;\n",
       "    }\n",
       "\n",
       "    .dataframe tbody tr th {\n",
       "        vertical-align: top;\n",
       "    }\n",
       "\n",
       "    .dataframe thead th {\n",
       "        text-align: right;\n",
       "    }\n",
       "</style>\n",
       "<table border=\"1\" class=\"dataframe\">\n",
       "  <thead>\n",
       "    <tr style=\"text-align: right;\">\n",
       "      <th></th>\n",
       "      <th>longitude</th>\n",
       "      <th>latitude</th>\n",
       "      <th>housing_median_age</th>\n",
       "      <th>total_rooms</th>\n",
       "      <th>total_bedrooms</th>\n",
       "      <th>population</th>\n",
       "      <th>households</th>\n",
       "      <th>median_income</th>\n",
       "      <th>median_house_value</th>\n",
       "      <th>ocean_proximity</th>\n",
       "    </tr>\n",
       "  </thead>\n",
       "  <tbody>\n",
       "    <tr>\n",
       "      <th>0</th>\n",
       "      <td>-122.23</td>\n",
       "      <td>37.88</td>\n",
       "      <td>41.0</td>\n",
       "      <td>880.0</td>\n",
       "      <td>129.0</td>\n",
       "      <td>322.0</td>\n",
       "      <td>126.0</td>\n",
       "      <td>8.3252</td>\n",
       "      <td>452600.0</td>\n",
       "      <td>NEAR BAY</td>\n",
       "    </tr>\n",
       "    <tr>\n",
       "      <th>1</th>\n",
       "      <td>-122.22</td>\n",
       "      <td>37.86</td>\n",
       "      <td>21.0</td>\n",
       "      <td>7099.0</td>\n",
       "      <td>1106.0</td>\n",
       "      <td>2401.0</td>\n",
       "      <td>1138.0</td>\n",
       "      <td>8.3014</td>\n",
       "      <td>358500.0</td>\n",
       "      <td>NEAR BAY</td>\n",
       "    </tr>\n",
       "    <tr>\n",
       "      <th>2</th>\n",
       "      <td>-122.24</td>\n",
       "      <td>37.85</td>\n",
       "      <td>52.0</td>\n",
       "      <td>1467.0</td>\n",
       "      <td>190.0</td>\n",
       "      <td>496.0</td>\n",
       "      <td>177.0</td>\n",
       "      <td>7.2574</td>\n",
       "      <td>352100.0</td>\n",
       "      <td>NEAR BAY</td>\n",
       "    </tr>\n",
       "    <tr>\n",
       "      <th>3</th>\n",
       "      <td>-122.25</td>\n",
       "      <td>37.85</td>\n",
       "      <td>52.0</td>\n",
       "      <td>1274.0</td>\n",
       "      <td>235.0</td>\n",
       "      <td>558.0</td>\n",
       "      <td>219.0</td>\n",
       "      <td>5.6431</td>\n",
       "      <td>341300.0</td>\n",
       "      <td>NEAR BAY</td>\n",
       "    </tr>\n",
       "    <tr>\n",
       "      <th>4</th>\n",
       "      <td>-122.25</td>\n",
       "      <td>37.85</td>\n",
       "      <td>52.0</td>\n",
       "      <td>1627.0</td>\n",
       "      <td>280.0</td>\n",
       "      <td>565.0</td>\n",
       "      <td>259.0</td>\n",
       "      <td>3.8462</td>\n",
       "      <td>342200.0</td>\n",
       "      <td>NEAR BAY</td>\n",
       "    </tr>\n",
       "  </tbody>\n",
       "</table>\n",
       "</div>"
      ],
      "text/plain": [
       "   longitude  latitude  housing_median_age  total_rooms  total_bedrooms  \\\n",
       "0    -122.23     37.88                41.0        880.0           129.0   \n",
       "1    -122.22     37.86                21.0       7099.0          1106.0   \n",
       "2    -122.24     37.85                52.0       1467.0           190.0   \n",
       "3    -122.25     37.85                52.0       1274.0           235.0   \n",
       "4    -122.25     37.85                52.0       1627.0           280.0   \n",
       "\n",
       "   population  households  median_income  median_house_value ocean_proximity  \n",
       "0       322.0       126.0         8.3252            452600.0        NEAR BAY  \n",
       "1      2401.0      1138.0         8.3014            358500.0        NEAR BAY  \n",
       "2       496.0       177.0         7.2574            352100.0        NEAR BAY  \n",
       "3       558.0       219.0         5.6431            341300.0        NEAR BAY  \n",
       "4       565.0       259.0         3.8462            342200.0        NEAR BAY  "
      ]
     },
     "execution_count": 3,
     "metadata": {},
     "output_type": "execute_result"
    }
   ],
   "source": [
    "housing.head()"
   ]
  },
  {
   "cell_type": "code",
   "execution_count": 4,
   "id": "0d12d6b4-eea5-4e73-92a7-dd163e26c2ea",
   "metadata": {},
   "outputs": [
    {
     "name": "stdout",
     "output_type": "stream",
     "text": [
      "dimensions:(20640, 10)\n",
      "columns: ['longitude' 'latitude' 'housing_median_age' 'total_rooms'\n",
      " 'total_bedrooms' 'population' 'households' 'median_income'\n",
      " 'median_house_value' 'ocean_proximity']\n"
     ]
    }
   ],
   "source": [
    "print(f\"dimensions:{housing.shape}\")\n",
    "print(f\"columns: {housing.columns.values}\")"
   ]
  },
  {
   "cell_type": "code",
   "execution_count": 5,
   "id": "0413d171-6043-4e95-bb1d-0404ac7c7dc1",
   "metadata": {},
   "outputs": [
    {
     "name": "stdout",
     "output_type": "stream",
     "text": [
      "<class 'pandas.core.frame.DataFrame'>\n",
      "RangeIndex: 20640 entries, 0 to 20639\n",
      "Data columns (total 10 columns):\n",
      " #   Column              Non-Null Count  Dtype  \n",
      "---  ------              --------------  -----  \n",
      " 0   longitude           20640 non-null  float64\n",
      " 1   latitude            20640 non-null  float64\n",
      " 2   housing_median_age  20640 non-null  float64\n",
      " 3   total_rooms         20640 non-null  float64\n",
      " 4   total_bedrooms      20433 non-null  float64\n",
      " 5   population          20640 non-null  float64\n",
      " 6   households          20640 non-null  float64\n",
      " 7   median_income       20640 non-null  float64\n",
      " 8   median_house_value  20640 non-null  float64\n",
      " 9   ocean_proximity     20640 non-null  object \n",
      "dtypes: float64(9), object(1)\n",
      "memory usage: 1.6+ MB\n"
     ]
    }
   ],
   "source": [
    "housing.info()"
   ]
  },
  {
   "cell_type": "code",
   "execution_count": 6,
   "id": "57220110-9258-4501-916a-180c4634268c",
   "metadata": {},
   "outputs": [
    {
     "data": {
      "text/plain": [
       "<1H OCEAN     9136\n",
       "INLAND        6551\n",
       "NEAR OCEAN    2658\n",
       "NEAR BAY      2290\n",
       "ISLAND           5\n",
       "Name: ocean_proximity, dtype: int64"
      ]
     },
     "execution_count": 6,
     "metadata": {},
     "output_type": "execute_result"
    }
   ],
   "source": [
    "housing['ocean_proximity'].value_counts()"
   ]
  },
  {
   "cell_type": "code",
   "execution_count": 7,
   "id": "7ab2bf02-7c4d-43f4-9045-f063abd6608d",
   "metadata": {},
   "outputs": [
    {
     "data": {
      "text/html": [
       "<div>\n",
       "<style scoped>\n",
       "    .dataframe tbody tr th:only-of-type {\n",
       "        vertical-align: middle;\n",
       "    }\n",
       "\n",
       "    .dataframe tbody tr th {\n",
       "        vertical-align: top;\n",
       "    }\n",
       "\n",
       "    .dataframe thead th {\n",
       "        text-align: right;\n",
       "    }\n",
       "</style>\n",
       "<table border=\"1\" class=\"dataframe\">\n",
       "  <thead>\n",
       "    <tr style=\"text-align: right;\">\n",
       "      <th></th>\n",
       "      <th>longitude</th>\n",
       "      <th>latitude</th>\n",
       "      <th>housing_median_age</th>\n",
       "      <th>total_rooms</th>\n",
       "      <th>total_bedrooms</th>\n",
       "      <th>population</th>\n",
       "      <th>households</th>\n",
       "      <th>median_income</th>\n",
       "      <th>median_house_value</th>\n",
       "    </tr>\n",
       "  </thead>\n",
       "  <tbody>\n",
       "    <tr>\n",
       "      <th>count</th>\n",
       "      <td>20640.000000</td>\n",
       "      <td>20640.000000</td>\n",
       "      <td>20640.000000</td>\n",
       "      <td>20640.000000</td>\n",
       "      <td>20433.000000</td>\n",
       "      <td>20640.000000</td>\n",
       "      <td>20640.000000</td>\n",
       "      <td>20640.000000</td>\n",
       "      <td>20640.000000</td>\n",
       "    </tr>\n",
       "    <tr>\n",
       "      <th>mean</th>\n",
       "      <td>-119.569704</td>\n",
       "      <td>35.631861</td>\n",
       "      <td>28.639486</td>\n",
       "      <td>2635.763081</td>\n",
       "      <td>537.870553</td>\n",
       "      <td>1425.476744</td>\n",
       "      <td>499.539680</td>\n",
       "      <td>3.870671</td>\n",
       "      <td>206855.816909</td>\n",
       "    </tr>\n",
       "    <tr>\n",
       "      <th>std</th>\n",
       "      <td>2.003532</td>\n",
       "      <td>2.135952</td>\n",
       "      <td>12.585558</td>\n",
       "      <td>2181.615252</td>\n",
       "      <td>421.385070</td>\n",
       "      <td>1132.462122</td>\n",
       "      <td>382.329753</td>\n",
       "      <td>1.899822</td>\n",
       "      <td>115395.615874</td>\n",
       "    </tr>\n",
       "    <tr>\n",
       "      <th>min</th>\n",
       "      <td>-124.350000</td>\n",
       "      <td>32.540000</td>\n",
       "      <td>1.000000</td>\n",
       "      <td>2.000000</td>\n",
       "      <td>1.000000</td>\n",
       "      <td>3.000000</td>\n",
       "      <td>1.000000</td>\n",
       "      <td>0.499900</td>\n",
       "      <td>14999.000000</td>\n",
       "    </tr>\n",
       "    <tr>\n",
       "      <th>25%</th>\n",
       "      <td>-121.800000</td>\n",
       "      <td>33.930000</td>\n",
       "      <td>18.000000</td>\n",
       "      <td>1447.750000</td>\n",
       "      <td>296.000000</td>\n",
       "      <td>787.000000</td>\n",
       "      <td>280.000000</td>\n",
       "      <td>2.563400</td>\n",
       "      <td>119600.000000</td>\n",
       "    </tr>\n",
       "    <tr>\n",
       "      <th>50%</th>\n",
       "      <td>-118.490000</td>\n",
       "      <td>34.260000</td>\n",
       "      <td>29.000000</td>\n",
       "      <td>2127.000000</td>\n",
       "      <td>435.000000</td>\n",
       "      <td>1166.000000</td>\n",
       "      <td>409.000000</td>\n",
       "      <td>3.534800</td>\n",
       "      <td>179700.000000</td>\n",
       "    </tr>\n",
       "    <tr>\n",
       "      <th>75%</th>\n",
       "      <td>-118.010000</td>\n",
       "      <td>37.710000</td>\n",
       "      <td>37.000000</td>\n",
       "      <td>3148.000000</td>\n",
       "      <td>647.000000</td>\n",
       "      <td>1725.000000</td>\n",
       "      <td>605.000000</td>\n",
       "      <td>4.743250</td>\n",
       "      <td>264725.000000</td>\n",
       "    </tr>\n",
       "    <tr>\n",
       "      <th>max</th>\n",
       "      <td>-114.310000</td>\n",
       "      <td>41.950000</td>\n",
       "      <td>52.000000</td>\n",
       "      <td>39320.000000</td>\n",
       "      <td>6445.000000</td>\n",
       "      <td>35682.000000</td>\n",
       "      <td>6082.000000</td>\n",
       "      <td>15.000100</td>\n",
       "      <td>500001.000000</td>\n",
       "    </tr>\n",
       "  </tbody>\n",
       "</table>\n",
       "</div>"
      ],
      "text/plain": [
       "          longitude      latitude  housing_median_age   total_rooms  \\\n",
       "count  20640.000000  20640.000000        20640.000000  20640.000000   \n",
       "mean    -119.569704     35.631861           28.639486   2635.763081   \n",
       "std        2.003532      2.135952           12.585558   2181.615252   \n",
       "min     -124.350000     32.540000            1.000000      2.000000   \n",
       "25%     -121.800000     33.930000           18.000000   1447.750000   \n",
       "50%     -118.490000     34.260000           29.000000   2127.000000   \n",
       "75%     -118.010000     37.710000           37.000000   3148.000000   \n",
       "max     -114.310000     41.950000           52.000000  39320.000000   \n",
       "\n",
       "       total_bedrooms    population    households  median_income  \\\n",
       "count    20433.000000  20640.000000  20640.000000   20640.000000   \n",
       "mean       537.870553   1425.476744    499.539680       3.870671   \n",
       "std        421.385070   1132.462122    382.329753       1.899822   \n",
       "min          1.000000      3.000000      1.000000       0.499900   \n",
       "25%        296.000000    787.000000    280.000000       2.563400   \n",
       "50%        435.000000   1166.000000    409.000000       3.534800   \n",
       "75%        647.000000   1725.000000    605.000000       4.743250   \n",
       "max       6445.000000  35682.000000   6082.000000      15.000100   \n",
       "\n",
       "       median_house_value  \n",
       "count        20640.000000  \n",
       "mean        206855.816909  \n",
       "std         115395.615874  \n",
       "min          14999.000000  \n",
       "25%         119600.000000  \n",
       "50%         179700.000000  \n",
       "75%         264725.000000  \n",
       "max         500001.000000  "
      ]
     },
     "execution_count": 7,
     "metadata": {},
     "output_type": "execute_result"
    }
   ],
   "source": [
    "housing.describe()\n"
   ]
  },
  {
   "cell_type": "code",
   "execution_count": 8,
   "id": "d258d9fa-72d7-4381-9b2b-f82146c74c20",
   "metadata": {},
   "outputs": [
    {
     "data": {
      "image/png": "[encoded data removed]",
      "text/plain": [
       "<Figure size 1440x1080 with 9 Axes>"
      ]
     },
     "metadata": {
      "needs_background": "light"
     },
     "output_type": "display_data"
    }
   ],
   "source": [
    "from matplotlib import pyplot as plt\n",
    "\n",
    "housing.hist(bins=50, figsize=(20,15))\n",
    "plt.show()"
   ]
  },
  {
   "cell_type": "code",
   "execution_count": 9,
   "id": "13dd2434-54b3-4465-a034-9f9fdbb34532",
   "metadata": {},
   "outputs": [
    {
     "name": "stdout",
     "output_type": "stream",
     "text": [
      "Central Measures for median_income\n",
      "mean: 3.87 median: 3.53 mode 3.12\n"
     ]
    }
   ],
   "source": [
    "from statistics import mode\n",
    "import numpy as np\n",
    "print(\"Central Measures for median_income\")\n",
    "print(\"mean: {:.2f} median: {:.2f} mode {:.2f}\"\n",
    "      .format(housing['median_income'].mean(),\n",
    "              housing['median_income'].median(),\n",
    "             mode(housing['median_income'].values)))"
   ]
  },
  {
   "cell_type": "markdown",
   "id": "8b2fb067-3118-4bf8-a054-7c14fc643a76",
   "metadata": {},
   "source": [
    "### Split\n"
   ]
  },
  {
   "cell_type": "code",
   "execution_count": 10,
   "id": "cc98e09d-0a61-4138-81d9-1539d6957c8e",
   "metadata": {},
   "outputs": [],
   "source": [
    "from sklearn.model_selection import train_test_split, StratifiedShuffleSplit\n",
    "\n",
    "train_set, test_set = train_test_split(housing, test_size=0.2, random_state=42)"
   ]
  },
  {
   "cell_type": "markdown",
   "id": "fc5020d9-eea5-41ce-bdc6-b6761c44da29",
   "metadata": {},
   "source": [
    "* Stratified split"
   ]
  },
  {
   "cell_type": "code",
   "execution_count": 11,
   "id": "4ac661f4-98f8-4a95-a8eb-dc9cb872bcd5",
   "metadata": {},
   "outputs": [
    {
     "data": {
      "text/plain": [
       "3.0    7236\n",
       "2.0    6581\n",
       "4.0    3639\n",
       "5.0    2362\n",
       "1.0     822\n",
       "Name: income_cat, dtype: int64"
      ]
     },
     "execution_count": 11,
     "metadata": {},
     "output_type": "execute_result"
    }
   ],
   "source": [
    "housing['income_cat'] = np.ceil(housing[\"median_income\"]/1.5)\n",
    "housing['income_cat'].where(housing['income_cat'] < 5, 5.0, inplace=True) # replace when cond is false\n",
    "housing['income_cat'].value_counts()\n"
   ]
  },
  {
   "cell_type": "code",
   "execution_count": 12,
   "id": "05096175-8c99-4c2b-acd2-0dded0accb12",
   "metadata": {},
   "outputs": [
    {
     "data": {
      "text/plain": [
       "(1.0, 5.0)"
      ]
     },
     "execution_count": 12,
     "metadata": {},
     "output_type": "execute_result"
    },
    {
     "data": {
      "image/png": "[encoded data removed]",
      "text/plain": [
       "<Figure size 432x288 with 1 Axes>"
      ]
     },
     "metadata": {
      "needs_background": "light"
     },
     "output_type": "display_data"
    }
   ],
   "source": [
    "housing['income_cat'].hist()\n",
    "plt.xlim([1,5])"
   ]
  },
  {
   "cell_type": "code",
   "execution_count": 13,
   "id": "bb056d54-34b9-4f89-8bcf-908c468dc4af",
   "metadata": {},
   "outputs": [
    {
     "data": {
      "text/plain": [
       "3.0    0.350581\n",
       "2.0    0.318847\n",
       "4.0    0.176308\n",
       "5.0    0.114438\n",
       "1.0    0.039826\n",
       "Name: income_cat, dtype: float64"
      ]
     },
     "execution_count": 13,
     "metadata": {},
     "output_type": "execute_result"
    }
   ],
   "source": [
    "housing['income_cat'].value_counts()/len(housing)"
   ]
  },
  {
   "cell_type": "code",
   "execution_count": 14,
   "id": "c460de96-848f-4a33-ab19-26c8092699e9",
   "metadata": {},
   "outputs": [
    {
     "data": {
      "text/plain": [
       "3.0    0.350533\n",
       "2.0    0.318798\n",
       "4.0    0.176357\n",
       "5.0    0.114341\n",
       "1.0    0.039971\n",
       "Name: income_cat, dtype: float64"
      ]
     },
     "execution_count": 14,
     "metadata": {},
     "output_type": "execute_result"
    }
   ],
   "source": [
    "split = StratifiedShuffleSplit(n_splits=1,test_size=0.2, random_state=42)\n",
    "for train_index, test_index in split.split(housing, housing['income_cat']):\n",
    "        strat_train_set = housing.loc[train_index]\n",
    "        strat_test_set = housing.loc[test_index]\n",
    "strat_test_set['income_cat'].value_counts()/len(strat_test_set)"
   ]
  },
  {
   "cell_type": "code",
   "execution_count": 15,
   "id": "fdf2c256-c636-473b-9871-c05962834bf1",
   "metadata": {},
   "outputs": [],
   "source": [
    "train_set, test_set = train_test_split(housing, test_size=0.2, random_state=42)"
   ]
  },
  {
   "cell_type": "code",
   "execution_count": 16,
   "id": "178e1cbd-6a17-4288-b1df-758675461c96",
   "metadata": {},
   "outputs": [
    {
     "name": "stdout",
     "output_type": "stream",
     "text": [
      "        strat    random  original  strat %error  random %error\n",
      "3.0  0.350533  0.345203  0.350581     -0.013820      -1.533997\n",
      "2.0  0.318798  0.307413  0.318847     -0.015195      -3.586081\n",
      "4.0  0.176357  0.184109  0.176308      0.027480       4.424292\n",
      "5.0  0.114341  0.120882  0.114438     -0.084674       5.630821\n",
      "1.0  0.039971  0.042393  0.039826      0.364964       6.447689\n"
     ]
    }
   ],
   "source": [
    "def compare_strat(column,original, **datasets):\n",
    "    result= dict.fromkeys(datasets)\n",
    "    result['original'] = original[column].value_counts()/len(original)\n",
    "    result =  pd.DataFrame.from_dict(result)\n",
    "    for key in datasets.keys():\n",
    "        result[key] = (datasets[key][column].value_counts()/len(datasets[key]))\n",
    "        result['{} %error'.format(key)] = 100*(result[key]-result['original'])/result['original']\n",
    "    print(result)\n",
    "\n",
    "compare_strat(column='income_cat',original=housing, strat=strat_test_set,random=test_set)\n"
   ]
  },
  {
   "cell_type": "markdown",
   "id": "89e7781f-7ced-45d4-9131-88be702ff711",
   "metadata": {},
   "source": [
    "* drop stratified variable"
   ]
  },
  {
   "cell_type": "code",
   "execution_count": 17,
   "id": "6cd8f145-ba3d-4c12-8b0a-faac5a001118",
   "metadata": {},
   "outputs": [
    {
     "name": "stdout",
     "output_type": "stream",
     "text": [
      "Index(['longitude', 'latitude', 'housing_median_age', 'total_rooms',\n",
      "       'total_bedrooms', 'population', 'households', 'median_income',\n",
      "       'median_house_value', 'ocean_proximity'],\n",
      "      dtype='object')\n",
      "Index(['longitude', 'latitude', 'housing_median_age', 'total_rooms',\n",
      "       'total_bedrooms', 'population', 'households', 'median_income',\n",
      "       'median_house_value', 'ocean_proximity'],\n",
      "      dtype='object')\n"
     ]
    }
   ],
   "source": [
    "for set_ in (strat_test_set,strat_train_set):\n",
    "    set_.drop(columns=['income_cat'],inplace=True)\n",
    "    print(set_.columns)"
   ]
  },
  {
   "cell_type": "markdown",
   "id": "1ff6e243-7839-4d31-a9b7-97394988c77f",
   "metadata": {},
   "source": [
    "### Correlations"
   ]
  },
  {
   "cell_type": "code",
   "execution_count": 18,
   "id": "96bbdf93-f0fa-4e87-89b1-98ec4f5ade07",
   "metadata": {},
   "outputs": [
    {
     "data": {
      "text/plain": [
       "<AxesSubplot:>"
      ]
     },
     "execution_count": 18,
     "metadata": {},
     "output_type": "execute_result"
    },
    {
     "data": {
      "image/png": "[encoded data removed]",
      "text/plain": [
       "<Figure size 432x288 with 2 Axes>"
      ]
     },
     "metadata": {
      "needs_background": "light"
     },
     "output_type": "display_data"
    }
   ],
   "source": [
    "sns.heatmap(strat_test_set.corr())"
   ]
  },
  {
   "cell_type": "code",
   "execution_count": 19,
   "id": "c5a3cd0e-8d60-4925-bc1b-bcef82ecf829",
   "metadata": {},
   "outputs": [
    {
     "data": {
      "text/plain": [
       "median_house_value    1.000000\n",
       "median_income         0.687091\n",
       "total_rooms           0.121070\n",
       "housing_median_age    0.118976\n",
       "households            0.043549\n",
       "total_bedrooms        0.029600\n",
       "longitude            -0.026768\n",
       "population           -0.040286\n",
       "latitude             -0.162087\n",
       "Name: median_house_value, dtype: float64"
      ]
     },
     "execution_count": 19,
     "metadata": {},
     "output_type": "execute_result"
    }
   ],
   "source": [
    "corr_matrix = strat_test_set.corr()\n",
    "corr_matrix['median_house_value'].sort_values(ascending=False)"
   ]
  },
  {
   "cell_type": "code",
   "execution_count": 20,
   "id": "1971e781-086e-419d-9de5-e34cd93fd1ad",
   "metadata": {},
   "outputs": [
    {
     "data": {
      "image/png": "[encoded data removed]",
      "text/plain": [
       "<Figure size 720x432 with 16 Axes>"
      ]
     },
     "metadata": {
      "needs_background": "light"
     },
     "output_type": "display_data"
    }
   ],
   "source": [
    "from pandas.plotting import scatter_matrix\n",
    "features = ['median_house_value','median_income','total_rooms','housing_median_age']\n",
    "scatter_matrix(strat_test_set[features], figsize=(10,6))\n",
    "plt.show()"
   ]
  },
  {
   "cell_type": "code",
   "execution_count": 21,
   "id": "c36faa66-bb5d-4c96-8116-df5666d6fce3",
   "metadata": {},
   "outputs": [
    {
     "data": {
      "text/plain": [
       "<AxesSubplot:xlabel='median_income', ylabel='median_house_value'>"
      ]
     },
     "execution_count": 21,
     "metadata": {},
     "output_type": "execute_result"
    },
    {
     "data": {
      "image/png": "[encoded data removed]",
      "text/plain": [
       "<Figure size 432x288 with 1 Axes>"
      ]
     },
     "metadata": {
      "needs_background": "light"
     },
     "output_type": "display_data"
    }
   ],
   "source": [
    "strat_test_set.plot(kind='scatter', y='median_house_value', x='median_income')"
   ]
  },
  {
   "cell_type": "code",
   "execution_count": 22,
   "id": "d2781e31-da31-4089-9b05-2377c045c21b",
   "metadata": {},
   "outputs": [],
   "source": [
    "housing = strat_train_set.copy()\n",
    "housing[\"room_per_household\"] = housing['total_rooms']/housing['households']\n",
    "housing['bedroom_per_room'] = housing['total_bedrooms']/housing['total_rooms']\n",
    "housing['population_per_household'] = housing['population']/housing['households']"
   ]
  },
  {
   "cell_type": "code",
   "execution_count": 23,
   "id": "b778b9ee-edde-40ff-b34a-9dfaf71df9eb",
   "metadata": {},
   "outputs": [
    {
     "data": {
      "text/plain": [
       "median_house_value          1.000000\n",
       "median_income               0.688380\n",
       "room_per_household          0.143663\n",
       "total_rooms                 0.137455\n",
       "housing_median_age          0.102175\n",
       "households                  0.071426\n",
       "total_bedrooms              0.054635\n",
       "population                 -0.020153\n",
       "population_per_household   -0.038224\n",
       "longitude                  -0.050859\n",
       "latitude                   -0.139584\n",
       "bedroom_per_room           -0.256397\n",
       "Name: median_house_value, dtype: float64"
      ]
     },
     "execution_count": 23,
     "metadata": {},
     "output_type": "execute_result"
    }
   ],
   "source": [
    "corr_matrix = housing.corr()\n",
    "corr_matrix['median_house_value'].sort_values(ascending=False)"
   ]
  },
  {
   "cell_type": "markdown",
   "id": "815b32ae-d2cd-442c-b0cd-09f9d0871d0c",
   "metadata": {},
   "source": [
    "### Cleaning "
   ]
  },
  {
   "cell_type": "code",
   "execution_count": 24,
   "id": "faed070e-86e9-4d9f-8455-62088602792d",
   "metadata": {},
   "outputs": [],
   "source": [
    "housing = strat_train_set.drop(\"median_house_value\", axis=1)\n",
    "housing_labels = strat_train_set['median_house_value'].copy()"
   ]
  },
  {
   "cell_type": "code",
   "execution_count": 25,
   "id": "559b72de-c2dc-427e-9a95-6cdfb6365ee2",
   "metadata": {},
   "outputs": [
    {
     "data": {
      "text/plain": [
       "13096    458300.0\n",
       "14973    483800.0\n",
       "3785     101700.0\n",
       "14689     96100.0\n",
       "20507    361800.0\n",
       "           ...   \n",
       "14207    500001.0\n",
       "13105     88800.0\n",
       "19301    148800.0\n",
       "19121    500001.0\n",
       "19888    233300.0\n",
       "Name: median_house_value, Length: 16512, dtype: float64"
      ]
     },
     "execution_count": 25,
     "metadata": {},
     "output_type": "execute_result"
    }
   ],
   "source": [
    "housing_labels"
   ]
  },
  {
   "cell_type": "markdown",
   "id": "a116fddd-1450-49f8-a11c-f1f84519ded5",
   "metadata": {},
   "source": [
    "### imputing the median"
   ]
  },
  {
   "cell_type": "code",
   "execution_count": 26,
   "id": "3e9f07e4-7fac-40b0-8190-d7cbb7f845c5",
   "metadata": {},
   "outputs": [],
   "source": [
    "from sklearn.impute import SimpleImputer\n",
    "imputer = SimpleImputer(strategy='median')\n",
    "\n",
    "## removing categorical variable from data\n",
    "housing_num = housing.drop('ocean_proximity', axis=1)\n",
    "imputer.fit(housing_num)\n",
    "X = imputer.transform(housing_num)\n",
    "housing_tr = pd.DataFrame(X, columns=housing_num.columns, index=housing_num.index)"
   ]
  },
  {
   "cell_type": "markdown",
   "id": "6309289a-0185-4973-97cc-a0887133f395",
   "metadata": {},
   "source": [
    "### Categorical feature\n"
   ]
  },
  {
   "cell_type": "code",
   "execution_count": 27,
   "id": "f4a303e5-65a5-4853-bb02-31dfe657e658",
   "metadata": {},
   "outputs": [
    {
     "data": {
      "text/plain": [
       "array([0, 1, 2, 2, 3, 2, 1, 0, 1, 1], dtype=int64)"
      ]
     },
     "execution_count": 27,
     "metadata": {},
     "output_type": "execute_result"
    }
   ],
   "source": [
    "from sklearn.preprocessing import OrdinalEncoder, OneHotEncoder\n",
    "\n",
    "# pandas factorize\n",
    "housing_cat = housing['ocean_proximity']\n",
    "cat_encoded, categories = pd.factorize(housing_cat)\n",
    "cat_encoded[:10]"
   ]
  },
  {
   "cell_type": "code",
   "execution_count": 28,
   "id": "fb8b9721-95db-4e44-9fd8-3aaad54c8deb",
   "metadata": {},
   "outputs": [
    {
     "data": {
      "text/plain": [
       "Index(['NEAR BAY', '<1H OCEAN', 'INLAND', 'NEAR OCEAN', 'ISLAND'], dtype='object')"
      ]
     },
     "execution_count": 28,
     "metadata": {},
     "output_type": "execute_result"
    }
   ],
   "source": [
    "categories"
   ]
  },
  {
   "cell_type": "code",
   "execution_count": 29,
   "id": "1f60c0ee-bb4d-40f3-a3a5-c5a9b79f70a8",
   "metadata": {},
   "outputs": [
    {
     "data": {
      "text/plain": [
       "array([[3.],\n",
       "       [0.],\n",
       "       [1.],\n",
       "       ...,\n",
       "       [4.],\n",
       "       [0.],\n",
       "       [4.]])"
      ]
     },
     "execution_count": 29,
     "metadata": {},
     "output_type": "execute_result"
    }
   ],
   "source": [
    "housing_cat = housing[['ocean_proximity']]\n",
    "ord_enc = OrdinalEncoder()\n",
    "cat_encoded = ord_enc.fit_transform(housing_cat)\n",
    "cat_encoded"
   ]
  },
  {
   "cell_type": "code",
   "execution_count": 30,
   "id": "ababf97f-1bdf-455b-b748-ee87fef487e8",
   "metadata": {},
   "outputs": [
    {
     "data": {
      "text/plain": [
       "array([[0., 0., 0., 1., 0.],\n",
       "       [1., 0., 0., 0., 0.],\n",
       "       [0., 1., 0., 0., 0.],\n",
       "       ...,\n",
       "       [0., 0., 0., 0., 1.],\n",
       "       [1., 0., 0., 0., 0.],\n",
       "       [0., 0., 0., 0., 1.]])"
      ]
     },
     "execution_count": 30,
     "metadata": {},
     "output_type": "execute_result"
    }
   ],
   "source": [
    "oh_enc = OneHotEncoder()\n",
    "oh_enc.fit(housing_cat)\n",
    "data_encoded = oh_enc.transform(housing_cat)\n",
    "data_encoded.toarray()"
   ]
  },
  {
   "cell_type": "markdown",
   "id": "5f48ffdb-56ad-4378-a39e-1c737573a2db",
   "metadata": {},
   "source": [
    "#### Custom Transformer\n"
   ]
  },
  {
   "cell_type": "code",
   "execution_count": 31,
   "id": "5523ff02-a1fd-4c15-a82a-00c4fdef19c5",
   "metadata": {},
   "outputs": [
    {
     "data": {
      "text/plain": [
       "array([[-122.42, 37.8, 52.0, ..., 'NEAR BAY', 3.211798839458414,\n",
       "        1.5241779497098646],\n",
       "       [-118.38, 34.14, 40.0, ..., '<1H OCEAN', 5.504201680672269,\n",
       "        1.865546218487395],\n",
       "       [-121.98, 38.36, 33.0, ..., 'INLAND', 5.334975369458128,\n",
       "        2.768472906403941],\n",
       "       ...,\n",
       "       [-117.06, 32.59, 13.0, ..., 'NEAR OCEAN', 5.157894736842105,\n",
       "        3.7026315789473685],\n",
       "       [-118.4, 34.06, 37.0, ..., '<1H OCEAN', 4.511933174224343,\n",
       "        2.058472553699284],\n",
       "       [-122.41, 37.66, 44.0, ..., 'NEAR OCEAN', 2.0330188679245285,\n",
       "        3.2169811320754715]], dtype=object)"
      ]
     },
     "execution_count": 31,
     "metadata": {},
     "output_type": "execute_result"
    }
   ],
   "source": [
    "from sklearn.base import BaseEstimator, TransformerMixin\n",
    "rooms_ix, bedrooms_ix, popupation_ix, househoulds_ix = 3,4,5,6\n",
    "\n",
    "class CombinedAttributesAdder(BaseEstimator, TransformerMixin):\n",
    "    def __init__(self, add_bedrooms_per_rooms=True):\n",
    "        self.add_bedrooms_per_rooms = add_bedrooms_per_rooms\n",
    "    def fit(self, X, y=None):\n",
    "        return self\n",
    "    def transform(self, X, y=None):\n",
    "        rooms_per_households = X[:, rooms_ix]/X[:, househoulds_ix]\n",
    "        population_per_households = X[:, popupation_ix]/X[:, househoulds_ix]\n",
    "        if self.add_bedrooms_per_rooms:\n",
    "            bedrooms_per_rooms = X[:, bedrooms_ix]/X[:, househoulds_ix]\n",
    "            return np.c_[X, rooms_per_households,population_per_households,\n",
    "                         bedrooms_per_rooms]\n",
    "        else:\n",
    "             return np.c_[X, rooms_per_households,population_per_households]\n",
    "\n",
    "att_adder = CombinedAttributesAdder(add_bedrooms_per_rooms=False)\n",
    "housing_att_added = att_adder.transform(housing.values)\n",
    "housing_att_added"
   ]
  },
  {
   "cell_type": "code",
   "execution_count": 32,
   "id": "1239b87d-5d26-408b-a565-934f66c5ede1",
   "metadata": {},
   "outputs": [
    {
     "data": {
      "text/html": [
       "<div>\n",
       "<style scoped>\n",
       "    .dataframe tbody tr th:only-of-type {\n",
       "        vertical-align: middle;\n",
       "    }\n",
       "\n",
       "    .dataframe tbody tr th {\n",
       "        vertical-align: top;\n",
       "    }\n",
       "\n",
       "    .dataframe thead th {\n",
       "        text-align: right;\n",
       "    }\n",
       "</style>\n",
       "<table border=\"1\" class=\"dataframe\">\n",
       "  <thead>\n",
       "    <tr style=\"text-align: right;\">\n",
       "      <th></th>\n",
       "      <th>longitude</th>\n",
       "      <th>latitude</th>\n",
       "      <th>housing_median_age</th>\n",
       "      <th>total_rooms</th>\n",
       "      <th>total_bedrooms</th>\n",
       "      <th>population</th>\n",
       "      <th>households</th>\n",
       "      <th>median_income</th>\n",
       "      <th>ocean_proximity</th>\n",
       "      <th>rooms_per_households</th>\n",
       "      <th>population_per_households</th>\n",
       "    </tr>\n",
       "  </thead>\n",
       "  <tbody>\n",
       "    <tr>\n",
       "      <th>0</th>\n",
       "      <td>-122.42</td>\n",
       "      <td>37.8</td>\n",
       "      <td>52.0</td>\n",
       "      <td>3321.0</td>\n",
       "      <td>1115.0</td>\n",
       "      <td>1576.0</td>\n",
       "      <td>1034.0</td>\n",
       "      <td>2.0987</td>\n",
       "      <td>NEAR BAY</td>\n",
       "      <td>3.211799</td>\n",
       "      <td>1.524178</td>\n",
       "    </tr>\n",
       "    <tr>\n",
       "      <th>1</th>\n",
       "      <td>-118.38</td>\n",
       "      <td>34.14</td>\n",
       "      <td>40.0</td>\n",
       "      <td>1965.0</td>\n",
       "      <td>354.0</td>\n",
       "      <td>666.0</td>\n",
       "      <td>357.0</td>\n",
       "      <td>6.0876</td>\n",
       "      <td>&lt;1H OCEAN</td>\n",
       "      <td>5.504202</td>\n",
       "      <td>1.865546</td>\n",
       "    </tr>\n",
       "    <tr>\n",
       "      <th>2</th>\n",
       "      <td>-121.98</td>\n",
       "      <td>38.36</td>\n",
       "      <td>33.0</td>\n",
       "      <td>1083.0</td>\n",
       "      <td>217.0</td>\n",
       "      <td>562.0</td>\n",
       "      <td>203.0</td>\n",
       "      <td>2.433</td>\n",
       "      <td>INLAND</td>\n",
       "      <td>5.334975</td>\n",
       "      <td>2.768473</td>\n",
       "    </tr>\n",
       "    <tr>\n",
       "      <th>3</th>\n",
       "      <td>-117.11</td>\n",
       "      <td>33.75</td>\n",
       "      <td>17.0</td>\n",
       "      <td>4174.0</td>\n",
       "      <td>851.0</td>\n",
       "      <td>1845.0</td>\n",
       "      <td>780.0</td>\n",
       "      <td>2.2618</td>\n",
       "      <td>INLAND</td>\n",
       "      <td>5.351282</td>\n",
       "      <td>2.365385</td>\n",
       "    </tr>\n",
       "    <tr>\n",
       "      <th>4</th>\n",
       "      <td>-118.15</td>\n",
       "      <td>33.77</td>\n",
       "      <td>36.0</td>\n",
       "      <td>4366.0</td>\n",
       "      <td>1211.0</td>\n",
       "      <td>1912.0</td>\n",
       "      <td>1172.0</td>\n",
       "      <td>3.5292</td>\n",
       "      <td>NEAR OCEAN</td>\n",
       "      <td>3.725256</td>\n",
       "      <td>1.631399</td>\n",
       "    </tr>\n",
       "    <tr>\n",
       "      <th>...</th>\n",
       "      <td>...</td>\n",
       "      <td>...</td>\n",
       "      <td>...</td>\n",
       "      <td>...</td>\n",
       "      <td>...</td>\n",
       "      <td>...</td>\n",
       "      <td>...</td>\n",
       "      <td>...</td>\n",
       "      <td>...</td>\n",
       "      <td>...</td>\n",
       "      <td>...</td>\n",
       "    </tr>\n",
       "    <tr>\n",
       "      <th>16507</th>\n",
       "      <td>-118.4</td>\n",
       "      <td>33.86</td>\n",
       "      <td>41.0</td>\n",
       "      <td>2237.0</td>\n",
       "      <td>597.0</td>\n",
       "      <td>938.0</td>\n",
       "      <td>523.0</td>\n",
       "      <td>4.7105</td>\n",
       "      <td>&lt;1H OCEAN</td>\n",
       "      <td>4.277247</td>\n",
       "      <td>1.793499</td>\n",
       "    </tr>\n",
       "    <tr>\n",
       "      <th>16508</th>\n",
       "      <td>-119.31</td>\n",
       "      <td>36.32</td>\n",
       "      <td>23.0</td>\n",
       "      <td>2945.0</td>\n",
       "      <td>592.0</td>\n",
       "      <td>1419.0</td>\n",
       "      <td>532.0</td>\n",
       "      <td>2.5733</td>\n",
       "      <td>INLAND</td>\n",
       "      <td>5.535714</td>\n",
       "      <td>2.667293</td>\n",
       "    </tr>\n",
       "    <tr>\n",
       "      <th>16509</th>\n",
       "      <td>-117.06</td>\n",
       "      <td>32.59</td>\n",
       "      <td>13.0</td>\n",
       "      <td>3920.0</td>\n",
       "      <td>775.0</td>\n",
       "      <td>2814.0</td>\n",
       "      <td>760.0</td>\n",
       "      <td>4.0616</td>\n",
       "      <td>NEAR OCEAN</td>\n",
       "      <td>5.157895</td>\n",
       "      <td>3.702632</td>\n",
       "    </tr>\n",
       "    <tr>\n",
       "      <th>16510</th>\n",
       "      <td>-118.4</td>\n",
       "      <td>34.06</td>\n",
       "      <td>37.0</td>\n",
       "      <td>3781.0</td>\n",
       "      <td>873.0</td>\n",
       "      <td>1725.0</td>\n",
       "      <td>838.0</td>\n",
       "      <td>4.1455</td>\n",
       "      <td>&lt;1H OCEAN</td>\n",
       "      <td>4.511933</td>\n",
       "      <td>2.058473</td>\n",
       "    </tr>\n",
       "    <tr>\n",
       "      <th>16511</th>\n",
       "      <td>-122.41</td>\n",
       "      <td>37.66</td>\n",
       "      <td>44.0</td>\n",
       "      <td>431.0</td>\n",
       "      <td>195.0</td>\n",
       "      <td>682.0</td>\n",
       "      <td>212.0</td>\n",
       "      <td>3.2833</td>\n",
       "      <td>NEAR OCEAN</td>\n",
       "      <td>2.033019</td>\n",
       "      <td>3.216981</td>\n",
       "    </tr>\n",
       "  </tbody>\n",
       "</table>\n",
       "<p>16512 rows × 11 columns</p>\n",
       "</div>"
      ],
      "text/plain": [
       "      longitude latitude housing_median_age total_rooms total_bedrooms  \\\n",
       "0       -122.42     37.8               52.0      3321.0         1115.0   \n",
       "1       -118.38    34.14               40.0      1965.0          354.0   \n",
       "2       -121.98    38.36               33.0      1083.0          217.0   \n",
       "3       -117.11    33.75               17.0      4174.0          851.0   \n",
       "4       -118.15    33.77               36.0      4366.0         1211.0   \n",
       "...         ...      ...                ...         ...            ...   \n",
       "16507    -118.4    33.86               41.0      2237.0          597.0   \n",
       "16508   -119.31    36.32               23.0      2945.0          592.0   \n",
       "16509   -117.06    32.59               13.0      3920.0          775.0   \n",
       "16510    -118.4    34.06               37.0      3781.0          873.0   \n",
       "16511   -122.41    37.66               44.0       431.0          195.0   \n",
       "\n",
       "      population households median_income ocean_proximity  \\\n",
       "0         1576.0     1034.0        2.0987        NEAR BAY   \n",
       "1          666.0      357.0        6.0876       <1H OCEAN   \n",
       "2          562.0      203.0         2.433          INLAND   \n",
       "3         1845.0      780.0        2.2618          INLAND   \n",
       "4         1912.0     1172.0        3.5292      NEAR OCEAN   \n",
       "...          ...        ...           ...             ...   \n",
       "16507      938.0      523.0        4.7105       <1H OCEAN   \n",
       "16508     1419.0      532.0        2.5733          INLAND   \n",
       "16509     2814.0      760.0        4.0616      NEAR OCEAN   \n",
       "16510     1725.0      838.0        4.1455       <1H OCEAN   \n",
       "16511      682.0      212.0        3.2833      NEAR OCEAN   \n",
       "\n",
       "      rooms_per_households population_per_households  \n",
       "0                 3.211799                  1.524178  \n",
       "1                 5.504202                  1.865546  \n",
       "2                 5.334975                  2.768473  \n",
       "3                 5.351282                  2.365385  \n",
       "4                 3.725256                  1.631399  \n",
       "...                    ...                       ...  \n",
       "16507             4.277247                  1.793499  \n",
       "16508             5.535714                  2.667293  \n",
       "16509             5.157895                  3.702632  \n",
       "16510             4.511933                  2.058473  \n",
       "16511             2.033019                  3.216981  \n",
       "\n",
       "[16512 rows x 11 columns]"
      ]
     },
     "execution_count": 32,
     "metadata": {},
     "output_type": "execute_result"
    }
   ],
   "source": [
    "pd.DataFrame(housing_att_added,columns=[*housing.columns,'rooms_per_households',\n",
    "                            'population_per_households'])"
   ]
  },
  {
   "cell_type": "code",
   "execution_count": 33,
   "id": "2e34076a-a7a3-452c-86c9-0f798034a731",
   "metadata": {},
   "outputs": [
    {
     "data": {
      "text/plain": [
       "array([[0.  , 0.  ],\n",
       "       [0.25, 0.25],\n",
       "       [0.5 , 0.5 ],\n",
       "       [1.  , 1.  ]])"
      ]
     },
     "execution_count": 33,
     "metadata": {},
     "output_type": "execute_result"
    }
   ],
   "source": [
    "from sklearn.preprocessing import MinMaxScaler, StandardScaler\n",
    "\n",
    "data = [[-1, 2], [-0.5, 6], [0, 10], [1, 18]]\n",
    "MinMaxScaler().fit_transform(data)"
   ]
  },
  {
   "cell_type": "code",
   "execution_count": 34,
   "id": "40dcbd96-801f-43ff-9826-f07c1b1c870a",
   "metadata": {},
   "outputs": [
    {
     "data": {
      "text/plain": [
       "array([[-1.18321596, -1.18321596],\n",
       "       [-0.50709255, -0.50709255],\n",
       "       [ 0.16903085,  0.16903085],\n",
       "       [ 1.52127766,  1.52127766]])"
      ]
     },
     "execution_count": 34,
     "metadata": {},
     "output_type": "execute_result"
    }
   ],
   "source": [
    "StandardScaler().fit_transform(data)"
   ]
  },
  {
   "cell_type": "code",
   "execution_count": 35,
   "id": "db95b44e-7538-4d4f-98ea-52eaf00906a3",
   "metadata": {},
   "outputs": [
    {
     "data": {
      "text/plain": [
       "array([[0.        , 0.        ],\n",
       "       [0.04545455, 0.04081633],\n",
       "       [0.09090909, 0.08163265],\n",
       "       [1.        , 1.        ]])"
      ]
     },
     "execution_count": 35,
     "metadata": {},
     "output_type": "execute_result"
    }
   ],
   "source": [
    "data = [[-1, 2], [-0.5, 6], [0, 10], [10, 100]]\n",
    "MinMaxScaler().fit_transform(data)"
   ]
  },
  {
   "cell_type": "code",
   "execution_count": 36,
   "id": "dd1e00fa-7942-472d-866b-83e17970ff4e",
   "metadata": {},
   "outputs": [
    {
     "data": {
      "text/plain": [
       "array([[-0.68525306, -0.67399734],\n",
       "       [-0.57561257, -0.57596136],\n",
       "       [-0.46597208, -0.47792539],\n",
       "       [ 1.7268377 ,  1.72788409]])"
      ]
     },
     "execution_count": 36,
     "metadata": {},
     "output_type": "execute_result"
    }
   ],
   "source": [
    "StandardScaler().fit_transform(data)"
   ]
  },
  {
   "cell_type": "markdown",
   "id": "2a7eabfa-ee38-4502-bb9b-aff16f9bc877",
   "metadata": {},
   "source": [
    "### Transformation Pipelines "
   ]
  },
  {
   "cell_type": "code",
   "execution_count": 37,
   "id": "d174206b-9725-4a92-8af3-830c9203fc4d",
   "metadata": {},
   "outputs": [],
   "source": [
    "from sklearn.pipeline import Pipeline, FeatureUnion, make_pipeline\n",
    "from sklearn.compose import ColumnTransformer\n",
    "housing = strat_train_set.drop(\"median_house_value\", axis=1)\n",
    "num_col = housing.select_dtypes(include=np.number).columns.tolist()\n",
    "\n",
    "cat_col = housing.select_dtypes(include='object').columns.tolist()\n",
    "\n",
    "#num_col = housing_num.columns.to_list()\n",
    "#cat_col = ['ocean_proximity']"
   ]
  },
  {
   "cell_type": "code",
   "execution_count": 38,
   "id": "4f13dc2d-71fb-43dd-afd9-114eaa17db74",
   "metadata": {},
   "outputs": [
    {
     "data": {
      "text/plain": [
       "['longitude',\n",
       " 'latitude',\n",
       " 'housing_median_age',\n",
       " 'total_rooms',\n",
       " 'total_bedrooms',\n",
       " 'population',\n",
       " 'households',\n",
       " 'median_income']"
      ]
     },
     "execution_count": 38,
     "metadata": {},
     "output_type": "execute_result"
    }
   ],
   "source": [
    "num_col"
   ]
  },
  {
   "cell_type": "code",
   "execution_count": 39,
   "id": "f7e5aab3-e9b5-40e0-b719-c1a41f9b3728",
   "metadata": {},
   "outputs": [],
   "source": [
    "#num_pipeline = Pipeline([('imputer', SimpleImputer(strategy='median')),\n",
    " #                       ('scaller', StandardScaler())])\n",
    "#cat_pipeline = Pipeline([('imputer',SimpleImputer(strategy='most_frequent')),\n",
    " #                        ('encoder', OneHotEncoder())])"
   ]
  },
  {
   "cell_type": "code",
   "execution_count": 40,
   "id": "9577efd9-6ebc-4759-b658-ff9638100857",
   "metadata": {},
   "outputs": [],
   "source": [
    "num_pipeline = make_pipeline(SimpleImputer(strategy='median'),\n",
    "                        StandardScaler())\n",
    "cat_pipeline = make_pipeline(SimpleImputer(strategy='most_frequent'),\n",
    "                         OneHotEncoder())"
   ]
  },
  {
   "cell_type": "code",
   "execution_count": 41,
   "id": "c56e451f-b19d-4dc0-86fb-b3a601f0b05d",
   "metadata": {},
   "outputs": [],
   "source": [
    "preprocessing = ColumnTransformer([(\"num\", num_pipeline,num_col),\n",
    "                                  (\"cat\",cat_pipeline,cat_col)])\n",
    "\n",
    "housing_prepared = preprocessing.fit_transform(housing)"
   ]
  },
  {
   "cell_type": "code",
   "execution_count": 42,
   "id": "2a0dcdeb-a139-43a2-a193-eb73b31ae1b9",
   "metadata": {},
   "outputs": [
    {
     "data": {
      "text/html": [
       "<div>\n",
       "<style scoped>\n",
       "    .dataframe tbody tr th:only-of-type {\n",
       "        vertical-align: middle;\n",
       "    }\n",
       "\n",
       "    .dataframe tbody tr th {\n",
       "        vertical-align: top;\n",
       "    }\n",
       "\n",
       "    .dataframe thead th {\n",
       "        text-align: right;\n",
       "    }\n",
       "</style>\n",
       "<table border=\"1\" class=\"dataframe\">\n",
       "  <thead>\n",
       "    <tr style=\"text-align: right;\">\n",
       "      <th></th>\n",
       "      <th>0</th>\n",
       "      <th>1</th>\n",
       "      <th>2</th>\n",
       "      <th>3</th>\n",
       "      <th>4</th>\n",
       "      <th>5</th>\n",
       "      <th>6</th>\n",
       "      <th>7</th>\n",
       "      <th>8</th>\n",
       "      <th>9</th>\n",
       "      <th>10</th>\n",
       "      <th>11</th>\n",
       "      <th>12</th>\n",
       "    </tr>\n",
       "  </thead>\n",
       "  <tbody>\n",
       "    <tr>\n",
       "      <th>13096</th>\n",
       "      <td>-1.423037</td>\n",
       "      <td>1.013606</td>\n",
       "      <td>1.861119</td>\n",
       "      <td>0.311912</td>\n",
       "      <td>1.368167</td>\n",
       "      <td>0.137460</td>\n",
       "      <td>1.394812</td>\n",
       "      <td>-0.936491</td>\n",
       "      <td>0.0</td>\n",
       "      <td>0.0</td>\n",
       "      <td>0.0</td>\n",
       "      <td>1.0</td>\n",
       "      <td>0.0</td>\n",
       "    </tr>\n",
       "    <tr>\n",
       "      <th>14973</th>\n",
       "      <td>0.596394</td>\n",
       "      <td>-0.702103</td>\n",
       "      <td>0.907630</td>\n",
       "      <td>-0.308620</td>\n",
       "      <td>-0.435925</td>\n",
       "      <td>-0.693771</td>\n",
       "      <td>-0.373485</td>\n",
       "      <td>1.171942</td>\n",
       "      <td>1.0</td>\n",
       "      <td>0.0</td>\n",
       "      <td>0.0</td>\n",
       "      <td>0.0</td>\n",
       "      <td>0.0</td>\n",
       "    </tr>\n",
       "    <tr>\n",
       "      <th>3785</th>\n",
       "      <td>-1.203098</td>\n",
       "      <td>1.276119</td>\n",
       "      <td>0.351428</td>\n",
       "      <td>-0.712240</td>\n",
       "      <td>-0.760709</td>\n",
       "      <td>-0.788768</td>\n",
       "      <td>-0.775727</td>\n",
       "      <td>-0.759789</td>\n",
       "      <td>0.0</td>\n",
       "      <td>1.0</td>\n",
       "      <td>0.0</td>\n",
       "      <td>0.0</td>\n",
       "      <td>0.0</td>\n",
       "    </tr>\n",
       "    <tr>\n",
       "      <th>14689</th>\n",
       "      <td>1.231216</td>\n",
       "      <td>-0.884924</td>\n",
       "      <td>-0.919891</td>\n",
       "      <td>0.702262</td>\n",
       "      <td>0.742306</td>\n",
       "      <td>0.383175</td>\n",
       "      <td>0.731375</td>\n",
       "      <td>-0.850281</td>\n",
       "      <td>0.0</td>\n",
       "      <td>1.0</td>\n",
       "      <td>0.0</td>\n",
       "      <td>0.0</td>\n",
       "      <td>0.0</td>\n",
       "    </tr>\n",
       "    <tr>\n",
       "      <th>20507</th>\n",
       "      <td>0.711362</td>\n",
       "      <td>-0.875549</td>\n",
       "      <td>0.589800</td>\n",
       "      <td>0.790125</td>\n",
       "      <td>1.595753</td>\n",
       "      <td>0.444376</td>\n",
       "      <td>1.755263</td>\n",
       "      <td>-0.180365</td>\n",
       "      <td>0.0</td>\n",
       "      <td>0.0</td>\n",
       "      <td>0.0</td>\n",
       "      <td>0.0</td>\n",
       "      <td>1.0</td>\n",
       "    </tr>\n",
       "    <tr>\n",
       "      <th>...</th>\n",
       "      <td>...</td>\n",
       "      <td>...</td>\n",
       "      <td>...</td>\n",
       "      <td>...</td>\n",
       "      <td>...</td>\n",
       "      <td>...</td>\n",
       "      <td>...</td>\n",
       "      <td>...</td>\n",
       "      <td>...</td>\n",
       "      <td>...</td>\n",
       "      <td>...</td>\n",
       "      <td>...</td>\n",
       "      <td>...</td>\n",
       "    </tr>\n",
       "    <tr>\n",
       "      <th>14207</th>\n",
       "      <td>0.586397</td>\n",
       "      <td>-0.833359</td>\n",
       "      <td>0.987087</td>\n",
       "      <td>-0.184147</td>\n",
       "      <td>0.140152</td>\n",
       "      <td>-0.445315</td>\n",
       "      <td>0.060101</td>\n",
       "      <td>0.444041</td>\n",
       "      <td>1.0</td>\n",
       "      <td>0.0</td>\n",
       "      <td>0.0</td>\n",
       "      <td>0.0</td>\n",
       "      <td>0.0</td>\n",
       "    </tr>\n",
       "    <tr>\n",
       "      <th>13105</th>\n",
       "      <td>0.131525</td>\n",
       "      <td>0.319822</td>\n",
       "      <td>-0.443146</td>\n",
       "      <td>0.139847</td>\n",
       "      <td>0.128298</td>\n",
       "      <td>-0.005950</td>\n",
       "      <td>0.083608</td>\n",
       "      <td>-0.685630</td>\n",
       "      <td>0.0</td>\n",
       "      <td>1.0</td>\n",
       "      <td>0.0</td>\n",
       "      <td>0.0</td>\n",
       "      <td>0.0</td>\n",
       "    </tr>\n",
       "    <tr>\n",
       "      <th>19301</th>\n",
       "      <td>1.256209</td>\n",
       "      <td>-1.428701</td>\n",
       "      <td>-1.237721</td>\n",
       "      <td>0.586026</td>\n",
       "      <td>0.562134</td>\n",
       "      <td>1.268299</td>\n",
       "      <td>0.679135</td>\n",
       "      <td>0.101049</td>\n",
       "      <td>0.0</td>\n",
       "      <td>0.0</td>\n",
       "      <td>0.0</td>\n",
       "      <td>0.0</td>\n",
       "      <td>1.0</td>\n",
       "    </tr>\n",
       "    <tr>\n",
       "      <th>19121</th>\n",
       "      <td>0.586397</td>\n",
       "      <td>-0.739605</td>\n",
       "      <td>0.669257</td>\n",
       "      <td>0.522417</td>\n",
       "      <td>0.794461</td>\n",
       "      <td>0.273563</td>\n",
       "      <td>0.882868</td>\n",
       "      <td>0.145396</td>\n",
       "      <td>1.0</td>\n",
       "      <td>0.0</td>\n",
       "      <td>0.0</td>\n",
       "      <td>0.0</td>\n",
       "      <td>0.0</td>\n",
       "    </tr>\n",
       "    <tr>\n",
       "      <th>19888</th>\n",
       "      <td>-1.418038</td>\n",
       "      <td>0.947978</td>\n",
       "      <td>1.225459</td>\n",
       "      <td>-1.010608</td>\n",
       "      <td>-0.812864</td>\n",
       "      <td>-0.679156</td>\n",
       "      <td>-0.752219</td>\n",
       "      <td>-0.310341</td>\n",
       "      <td>0.0</td>\n",
       "      <td>0.0</td>\n",
       "      <td>0.0</td>\n",
       "      <td>0.0</td>\n",
       "      <td>1.0</td>\n",
       "    </tr>\n",
       "  </tbody>\n",
       "</table>\n",
       "<p>16512 rows × 13 columns</p>\n",
       "</div>"
      ],
      "text/plain": [
       "             0         1         2         3         4         5         6   \\\n",
       "13096 -1.423037  1.013606  1.861119  0.311912  1.368167  0.137460  1.394812   \n",
       "14973  0.596394 -0.702103  0.907630 -0.308620 -0.435925 -0.693771 -0.373485   \n",
       "3785  -1.203098  1.276119  0.351428 -0.712240 -0.760709 -0.788768 -0.775727   \n",
       "14689  1.231216 -0.884924 -0.919891  0.702262  0.742306  0.383175  0.731375   \n",
       "20507  0.711362 -0.875549  0.589800  0.790125  1.595753  0.444376  1.755263   \n",
       "...         ...       ...       ...       ...       ...       ...       ...   \n",
       "14207  0.586397 -0.833359  0.987087 -0.184147  0.140152 -0.445315  0.060101   \n",
       "13105  0.131525  0.319822 -0.443146  0.139847  0.128298 -0.005950  0.083608   \n",
       "19301  1.256209 -1.428701 -1.237721  0.586026  0.562134  1.268299  0.679135   \n",
       "19121  0.586397 -0.739605  0.669257  0.522417  0.794461  0.273563  0.882868   \n",
       "19888 -1.418038  0.947978  1.225459 -1.010608 -0.812864 -0.679156 -0.752219   \n",
       "\n",
       "             7    8    9    10   11   12  \n",
       "13096 -0.936491  0.0  0.0  0.0  1.0  0.0  \n",
       "14973  1.171942  1.0  0.0  0.0  0.0  0.0  \n",
       "3785  -0.759789  0.0  1.0  0.0  0.0  0.0  \n",
       "14689 -0.850281  0.0  1.0  0.0  0.0  0.0  \n",
       "20507 -0.180365  0.0  0.0  0.0  0.0  1.0  \n",
       "...         ...  ...  ...  ...  ...  ...  \n",
       "14207  0.444041  1.0  0.0  0.0  0.0  0.0  \n",
       "13105 -0.685630  0.0  1.0  0.0  0.0  0.0  \n",
       "19301  0.101049  0.0  0.0  0.0  0.0  1.0  \n",
       "19121  0.145396  1.0  0.0  0.0  0.0  0.0  \n",
       "19888 -0.310341  0.0  0.0  0.0  0.0  1.0  \n",
       "\n",
       "[16512 rows x 13 columns]"
      ]
     },
     "execution_count": 42,
     "metadata": {},
     "output_type": "execute_result"
    }
   ],
   "source": [
    "pd.DataFrame(housing_prepared,\n",
    "             index=housing.index)"
   ]
  },
  {
   "cell_type": "code",
   "execution_count": 43,
   "id": "d80d411d-cd07-4a78-aee7-0da245899cf0",
   "metadata": {},
   "outputs": [],
   "source": [
    "\n",
    "cat_encod_col= preprocessing.named_transformers_['cat'][1].get_feature_names_out()"
   ]
  },
  {
   "cell_type": "code",
   "execution_count": 44,
   "id": "0b2753e1-0c4b-4528-84a6-00087982dcc9",
   "metadata": {},
   "outputs": [],
   "source": [
    "housing_prepared = pd.DataFrame(housing_prepared,columns=[*num_col,*cat_encod_col],\n",
    "             index=housing.index).rename(columns=str.lower)"
   ]
  },
  {
   "cell_type": "code",
   "execution_count": 45,
   "id": "6f72287b-a66e-4608-9e46-8667d8c43615",
   "metadata": {},
   "outputs": [
    {
     "data": {
      "text/html": [
       "<div>\n",
       "<style scoped>\n",
       "    .dataframe tbody tr th:only-of-type {\n",
       "        vertical-align: middle;\n",
       "    }\n",
       "\n",
       "    .dataframe tbody tr th {\n",
       "        vertical-align: top;\n",
       "    }\n",
       "\n",
       "    .dataframe thead th {\n",
       "        text-align: right;\n",
       "    }\n",
       "</style>\n",
       "<table border=\"1\" class=\"dataframe\">\n",
       "  <thead>\n",
       "    <tr style=\"text-align: right;\">\n",
       "      <th></th>\n",
       "      <th>longitude</th>\n",
       "      <th>latitude</th>\n",
       "      <th>housing_median_age</th>\n",
       "      <th>total_rooms</th>\n",
       "      <th>total_bedrooms</th>\n",
       "      <th>population</th>\n",
       "      <th>households</th>\n",
       "      <th>median_income</th>\n",
       "      <th>x0_&lt;1h ocean</th>\n",
       "      <th>x0_inland</th>\n",
       "      <th>x0_island</th>\n",
       "      <th>x0_near bay</th>\n",
       "      <th>x0_near ocean</th>\n",
       "    </tr>\n",
       "  </thead>\n",
       "  <tbody>\n",
       "    <tr>\n",
       "      <th>13096</th>\n",
       "      <td>-1.423037</td>\n",
       "      <td>1.013606</td>\n",
       "      <td>1.861119</td>\n",
       "      <td>0.311912</td>\n",
       "      <td>1.368167</td>\n",
       "      <td>0.137460</td>\n",
       "      <td>1.394812</td>\n",
       "      <td>-0.936491</td>\n",
       "      <td>0.0</td>\n",
       "      <td>0.0</td>\n",
       "      <td>0.0</td>\n",
       "      <td>1.0</td>\n",
       "      <td>0.0</td>\n",
       "    </tr>\n",
       "    <tr>\n",
       "      <th>14973</th>\n",
       "      <td>0.596394</td>\n",
       "      <td>-0.702103</td>\n",
       "      <td>0.907630</td>\n",
       "      <td>-0.308620</td>\n",
       "      <td>-0.435925</td>\n",
       "      <td>-0.693771</td>\n",
       "      <td>-0.373485</td>\n",
       "      <td>1.171942</td>\n",
       "      <td>1.0</td>\n",
       "      <td>0.0</td>\n",
       "      <td>0.0</td>\n",
       "      <td>0.0</td>\n",
       "      <td>0.0</td>\n",
       "    </tr>\n",
       "    <tr>\n",
       "      <th>3785</th>\n",
       "      <td>-1.203098</td>\n",
       "      <td>1.276119</td>\n",
       "      <td>0.351428</td>\n",
       "      <td>-0.712240</td>\n",
       "      <td>-0.760709</td>\n",
       "      <td>-0.788768</td>\n",
       "      <td>-0.775727</td>\n",
       "      <td>-0.759789</td>\n",
       "      <td>0.0</td>\n",
       "      <td>1.0</td>\n",
       "      <td>0.0</td>\n",
       "      <td>0.0</td>\n",
       "      <td>0.0</td>\n",
       "    </tr>\n",
       "    <tr>\n",
       "      <th>14689</th>\n",
       "      <td>1.231216</td>\n",
       "      <td>-0.884924</td>\n",
       "      <td>-0.919891</td>\n",
       "      <td>0.702262</td>\n",
       "      <td>0.742306</td>\n",
       "      <td>0.383175</td>\n",
       "      <td>0.731375</td>\n",
       "      <td>-0.850281</td>\n",
       "      <td>0.0</td>\n",
       "      <td>1.0</td>\n",
       "      <td>0.0</td>\n",
       "      <td>0.0</td>\n",
       "      <td>0.0</td>\n",
       "    </tr>\n",
       "    <tr>\n",
       "      <th>20507</th>\n",
       "      <td>0.711362</td>\n",
       "      <td>-0.875549</td>\n",
       "      <td>0.589800</td>\n",
       "      <td>0.790125</td>\n",
       "      <td>1.595753</td>\n",
       "      <td>0.444376</td>\n",
       "      <td>1.755263</td>\n",
       "      <td>-0.180365</td>\n",
       "      <td>0.0</td>\n",
       "      <td>0.0</td>\n",
       "      <td>0.0</td>\n",
       "      <td>0.0</td>\n",
       "      <td>1.0</td>\n",
       "    </tr>\n",
       "    <tr>\n",
       "      <th>1286</th>\n",
       "      <td>-0.868193</td>\n",
       "      <td>1.088610</td>\n",
       "      <td>1.861119</td>\n",
       "      <td>-0.370856</td>\n",
       "      <td>-0.561571</td>\n",
       "      <td>-0.668194</td>\n",
       "      <td>-0.472739</td>\n",
       "      <td>-0.276883</td>\n",
       "      <td>0.0</td>\n",
       "      <td>1.0</td>\n",
       "      <td>0.0</td>\n",
       "      <td>0.0</td>\n",
       "      <td>0.0</td>\n",
       "    </tr>\n",
       "    <tr>\n",
       "      <th>18078</th>\n",
       "      <td>0.606392</td>\n",
       "      <td>-0.838047</td>\n",
       "      <td>0.430885</td>\n",
       "      <td>-0.710868</td>\n",
       "      <td>-0.808122</td>\n",
       "      <td>-0.837181</td>\n",
       "      <td>-0.893265</td>\n",
       "      <td>1.185526</td>\n",
       "      <td>1.0</td>\n",
       "      <td>0.0</td>\n",
       "      <td>0.0</td>\n",
       "      <td>0.0</td>\n",
       "      <td>0.0</td>\n",
       "    </tr>\n",
       "    <tr>\n",
       "      <th>4396</th>\n",
       "      <td>-1.278077</td>\n",
       "      <td>0.830784</td>\n",
       "      <td>0.589800</td>\n",
       "      <td>0.982782</td>\n",
       "      <td>0.858470</td>\n",
       "      <td>0.560383</td>\n",
       "      <td>1.018690</td>\n",
       "      <td>0.811824</td>\n",
       "      <td>0.0</td>\n",
       "      <td>0.0</td>\n",
       "      <td>0.0</td>\n",
       "      <td>1.0</td>\n",
       "      <td>0.0</td>\n",
       "    </tr>\n",
       "    <tr>\n",
       "      <th>18031</th>\n",
       "      <td>0.566403</td>\n",
       "      <td>-0.622412</td>\n",
       "      <td>-0.522604</td>\n",
       "      <td>0.248303</td>\n",
       "      <td>0.673556</td>\n",
       "      <td>1.128543</td>\n",
       "      <td>0.642568</td>\n",
       "      <td>-0.593710</td>\n",
       "      <td>1.0</td>\n",
       "      <td>0.0</td>\n",
       "      <td>0.0</td>\n",
       "      <td>0.0</td>\n",
       "      <td>0.0</td>\n",
       "    </tr>\n",
       "    <tr>\n",
       "      <th>6753</th>\n",
       "      <td>0.721359</td>\n",
       "      <td>-0.739605</td>\n",
       "      <td>-0.919891</td>\n",
       "      <td>-0.423482</td>\n",
       "      <td>0.080885</td>\n",
       "      <td>0.150248</td>\n",
       "      <td>0.177639</td>\n",
       "      <td>-1.418129</td>\n",
       "      <td>1.0</td>\n",
       "      <td>0.0</td>\n",
       "      <td>0.0</td>\n",
       "      <td>0.0</td>\n",
       "      <td>0.0</td>\n",
       "    </tr>\n",
       "  </tbody>\n",
       "</table>\n",
       "</div>"
      ],
      "text/plain": [
       "       longitude  latitude  housing_median_age  total_rooms  total_bedrooms  \\\n",
       "13096  -1.423037  1.013606            1.861119     0.311912        1.368167   \n",
       "14973   0.596394 -0.702103            0.907630    -0.308620       -0.435925   \n",
       "3785   -1.203098  1.276119            0.351428    -0.712240       -0.760709   \n",
       "14689   1.231216 -0.884924           -0.919891     0.702262        0.742306   \n",
       "20507   0.711362 -0.875549            0.589800     0.790125        1.595753   \n",
       "1286   -0.868193  1.088610            1.861119    -0.370856       -0.561571   \n",
       "18078   0.606392 -0.838047            0.430885    -0.710868       -0.808122   \n",
       "4396   -1.278077  0.830784            0.589800     0.982782        0.858470   \n",
       "18031   0.566403 -0.622412           -0.522604     0.248303        0.673556   \n",
       "6753    0.721359 -0.739605           -0.919891    -0.423482        0.080885   \n",
       "\n",
       "       population  households  median_income  x0_<1h ocean  x0_inland  \\\n",
       "13096    0.137460    1.394812      -0.936491           0.0        0.0   \n",
       "14973   -0.693771   -0.373485       1.171942           1.0        0.0   \n",
       "3785    -0.788768   -0.775727      -0.759789           0.0        1.0   \n",
       "14689    0.383175    0.731375      -0.850281           0.0        1.0   \n",
       "20507    0.444376    1.755263      -0.180365           0.0        0.0   \n",
       "1286    -0.668194   -0.472739      -0.276883           0.0        1.0   \n",
       "18078   -0.837181   -0.893265       1.185526           1.0        0.0   \n",
       "4396     0.560383    1.018690       0.811824           0.0        0.0   \n",
       "18031    1.128543    0.642568      -0.593710           1.0        0.0   \n",
       "6753     0.150248    0.177639      -1.418129           1.0        0.0   \n",
       "\n",
       "       x0_island  x0_near bay  x0_near ocean  \n",
       "13096        0.0          1.0            0.0  \n",
       "14973        0.0          0.0            0.0  \n",
       "3785         0.0          0.0            0.0  \n",
       "14689        0.0          0.0            0.0  \n",
       "20507        0.0          0.0            1.0  \n",
       "1286         0.0          0.0            0.0  \n",
       "18078        0.0          0.0            0.0  \n",
       "4396         0.0          1.0            0.0  \n",
       "18031        0.0          0.0            0.0  \n",
       "6753         0.0          0.0            0.0  "
      ]
     },
     "execution_count": 45,
     "metadata": {},
     "output_type": "execute_result"
    }
   ],
   "source": [
    "housing_prepared.head(10)"
   ]
  },
  {
   "cell_type": "code",
   "execution_count": 46,
   "id": "a186d7fe-f5b6-4ea2-a948-27e3849d054a",
   "metadata": {},
   "outputs": [],
   "source": [
    "from sklearn.linear_model import LinearRegression\n",
    "lin_reg = LinearRegression()\n",
    "lin_reg.fit(housing_prepared,housing_labels)\n",
    "some_data = housing.iloc[:10]\n",
    "some_labels = housing_labels.iloc[:10]\n",
    "some_prepared_data = preprocessing.transform(some_data)\n",
    "some_prepared_data = pd.DataFrame(some_prepared_data,columns=[*num_col,*cat_encod_col],\n",
    "             index=some_data.index).rename(columns=str.lower)\n"
   ]
  },
  {
   "cell_type": "code",
   "execution_count": 47,
   "id": "aa961fcf-c389-4329-b193-6ed9e4374a61",
   "metadata": {},
   "outputs": [
    {
     "data": {
      "text/plain": [
       "<matplotlib.collections.PathCollection at 0x1dbb323dbe0>"
      ]
     },
     "execution_count": 47,
     "metadata": {},
     "output_type": "execute_result"
    },
    {
     "data": {
      "image/png": "[encoded data removed]",
      "text/plain": [
       "<Figure size 432x288 with 1 Axes>"
      ]
     },
     "metadata": {
      "needs_background": "light"
     },
     "output_type": "display_data"
    }
   ],
   "source": [
    "pred_lin = lin_reg.predict(some_prepared_data)\n",
    "x = range(len(some_data))\n",
    "plt.scatter(some_data.index, pred_lin)\n",
    "plt.scatter(some_data.index,some_labels)"
   ]
  },
  {
   "cell_type": "code",
   "execution_count": 48,
   "id": "b868e2e3-73c5-4a95-9129-231360ac893e",
   "metadata": {},
   "outputs": [],
   "source": [
    "from sklearn.metrics import mean_absolute_error, mean_squared_error\n",
    "\n"
   ]
  },
  {
   "cell_type": "code",
   "execution_count": null,
   "id": "2456ef37-5aad-4776-aafa-6ca66e519c5a",
   "metadata": {},
   "outputs": [],
   "source": []
  },
  {
   "cell_type": "code",
   "execution_count": 49,
   "id": "acf3b78f-9008-457a-8e15-633525fc0b52",
   "metadata": {},
   "outputs": [
    {
     "data": {
      "text/plain": [
       "<matplotlib.collections.PathCollection at 0x1dbb25ded90>"
      ]
     },
     "execution_count": 49,
     "metadata": {},
     "output_type": "execute_result"
    },
    {
     "data": {
      "image/png": "[encoded data removed]",
      "text/plain": [
       "<Figure size 432x288 with 1 Axes>"
      ]
     },
     "metadata": {
      "needs_background": "light"
     },
     "output_type": "display_data"
    }
   ],
   "source": [
    "from sklearn.tree import DecisionTreeRegressor\n",
    "tree_reg = DecisionTreeRegressor()\n",
    "tree_reg.fit(housing_prepared,housing_labels)\n",
    "pred_tree = tree_reg.predict(some_prepared_data)\n",
    "x = range(len(some_data))\n",
    "plt.scatter(some_data.index, pred_tree)\n",
    "plt.scatter(some_data.index,some_labels)"
   ]
  },
  {
   "cell_type": "code",
   "execution_count": null,
   "id": "3ad06988-2847-46fa-878a-41d331882294",
   "metadata": {},
   "outputs": [],
   "source": []
  },
  {
   "cell_type": "code",
   "execution_count": 50,
   "id": "151e8270-a800-4a0e-90e1-00d61bc3053c",
   "metadata": {},
   "outputs": [
    {
     "data": {
      "text/plain": [
       "<matplotlib.collections.PathCollection at 0x1dbb318bee0>"
      ]
     },
     "execution_count": 50,
     "metadata": {},
     "output_type": "execute_result"
    },
    {
     "data": {
      "image/png": "[encoded data removed]",
      "text/plain": [
       "<Figure size 432x288 with 1 Axes>"
      ]
     },
     "metadata": {
      "needs_background": "light"
     },
     "output_type": "display_data"
    }
   ],
   "source": [
    "from sklearn.ensemble import RandomForestRegressor\n",
    "rf_reg = RandomForestRegressor()\n",
    "rf_reg.fit(housing_prepared,housing_labels)\n",
    "pred_rf = rf_reg.predict(some_prepared_data)\n",
    "x = range(len(some_data))\n",
    "plt.scatter(some_data.index, pred_rf)\n",
    "plt.scatter(some_data.index,some_labels)"
   ]
  },
  {
   "cell_type": "markdown",
   "id": "8cf35762-4296-43de-a581-3f6823614bad",
   "metadata": {},
   "source": [
    "  ### Cross Validation\n",
    "    "
   ]
  },
  {
   "cell_type": "code",
   "execution_count": 51,
   "id": "45de311b-7b54-4a46-a9cc-4575507acd09",
   "metadata": {},
   "outputs": [
    {
     "data": {
      "text/plain": [
       "0.0"
      ]
     },
     "execution_count": 51,
     "metadata": {},
     "output_type": "execute_result"
    }
   ],
   "source": [
    "from sklearn.model_selection import cross_val_score\n",
    "scores = cross_val_score(tree_reg,housing_prepared,housing_labels, scoring=\"neg_mean_squared_error\",cv=10)\n",
    "mean_squared_error(some_labels,pred_tree, squared=False)"
   ]
  },
  {
   "cell_type": "code",
   "execution_count": 52,
   "id": "71745a3f-fe5e-4dc3-b4b8-c44f9c43d8b2",
   "metadata": {},
   "outputs": [
    {
     "data": {
      "text/plain": [
       "93067.60845497239"
      ]
     },
     "execution_count": 52,
     "metadata": {},
     "output_type": "execute_result"
    }
   ],
   "source": [
    "scores_lin = cross_val_score(lin_reg,housing_prepared,housing_labels, scoring=\"neg_mean_squared_error\",cv=10)\n",
    "mean_squared_error(some_labels,pred_lin,squared=False)"
   ]
  },
  {
   "cell_type": "code",
   "execution_count": 53,
   "id": "48bc8c3c-d36c-42bc-9738-b22ded74ef85",
   "metadata": {},
   "outputs": [
    {
     "data": {
      "text/plain": [
       "19487.245017433324"
      ]
     },
     "execution_count": 53,
     "metadata": {},
     "output_type": "execute_result"
    }
   ],
   "source": [
    "scores_rf = cross_val_score(rf_reg,housing_prepared,housing_labels, scoring=\"neg_mean_squared_error\",cv=10)\n",
    "mean_squared_error(some_labels,pred_rf,squared=False)"
   ]
  },
  {
   "cell_type": "code",
   "execution_count": 54,
   "id": "d62fc4f8-dc85-4074-8235-72499ea3e5e7",
   "metadata": {},
   "outputs": [
    {
     "name": "stdout",
     "output_type": "stream",
     "text": [
      "Tree Regressor\n",
      "Scores:  [68074.24429254 67092.21659424 67157.77409564 69924.26682327\n",
      " 68540.83579307 69128.38113197 71691.77331659 68785.94512546\n",
      " 66581.1165157  67552.52110476]\n",
      "Mean:  68452.90747932525\n",
      "Std Deviation:  1456.5916846763162\n",
      "\n",
      "Linear Regressor\n",
      "Scores:  [69823.93458835 67748.84358734 67256.04927007 69050.18214272\n",
      " 67334.60772112 68688.9649581  67424.75877757 69952.42288885\n",
      " 67537.81218643 68344.1931601 ]\n",
      "Mean:  68316.17692806528\n",
      "Std Deviation:  971.5373052470941\n",
      "\n",
      "Random Forest Regressor\n",
      "Scores:  [48208.90904671 49699.05375478 47298.00411528 49787.1785874\n",
      " 48698.74373366 49211.01846712 48516.34530518 49542.77508685\n",
      " 48965.81179881 48978.92914512]\n",
      "Mean:  48890.67690409151\n",
      "Std Deviation:  719.5032577909165\n"
     ]
    }
   ],
   "source": [
    "def display_scores(scores):\n",
    "    print(\"Scores: \",scores)\n",
    "    print(\"Mean: \", scores.mean())\n",
    "    print(\"Std Deviation: \", scores.std())\n",
    "print(\"Tree Regressor\")\n",
    "display_scores(np.sqrt(-scores))\n",
    "print(\"\\nLinear Regressor\")\n",
    "display_scores(np.sqrt(-scores_lin))\n",
    "print(\"\\nRandom Forest Regressor\")\n",
    "display_scores(np.sqrt(-scores_rf))"
   ]
  },
  {
   "cell_type": "markdown",
   "id": "0c5beeb1-f20f-4d97-8cde-e0d9d0991e1e",
   "metadata": {},
   "source": [
    "### Hyperparameter Tunning"
   ]
  },
  {
   "cell_type": "code",
   "execution_count": 55,
   "id": "46f8bf21-78ef-4f05-a9ee-ff045c9bdbb1",
   "metadata": {},
   "outputs": [
    {
     "data": {
      "text/plain": [
       "GridSearchCV(cv=5, estimator=RandomForestRegressor(),\n",
       "             param_grid=[{'max_features': [2, 4, 6, 8],\n",
       "                          'n_estimators': [3, 10, 30]},\n",
       "                         {'bootstrap': [False], 'max_features': [2, 3, 4],\n",
       "                          'n_estimators': [3, 10]}],\n",
       "             scoring='neg_mean_squared_error')"
      ]
     },
     "execution_count": 55,
     "metadata": {},
     "output_type": "execute_result"
    }
   ],
   "source": [
    "from sklearn.model_selection import GridSearchCV\n",
    "param_grid = [{'n_estimators':[3,10,30], 'max_features':[2,4,6,8]},\n",
    "             {'bootstrap':[False],'n_estimators':[3,10],'max_features':[2,3,4]}]\n",
    "forest_reg = RandomForestRegressor()\n",
    "grid_search = GridSearchCV(forest_reg, param_grid, cv=5,scoring='neg_mean_squared_error')\n",
    "grid_search.fit(housing_prepared,housing_labels)"
   ]
  },
  {
   "cell_type": "code",
   "execution_count": 56,
   "id": "b5c00715-a092-47c2-abfd-768e1acd0885",
   "metadata": {},
   "outputs": [
    {
     "data": {
      "text/plain": [
       "{'max_features': 6, 'n_estimators': 30}"
      ]
     },
     "execution_count": 56,
     "metadata": {},
     "output_type": "execute_result"
    }
   ],
   "source": [
    "grid_search.best_params_"
   ]
  },
  {
   "cell_type": "code",
   "execution_count": 57,
   "id": "3366af30-141b-4d41-85a2-9fcd4ba1bdd0",
   "metadata": {},
   "outputs": [
    {
     "data": {
      "text/plain": [
       "49434.22017658633"
      ]
     },
     "execution_count": 57,
     "metadata": {},
     "output_type": "execute_result"
    }
   ],
   "source": [
    "np.sqrt(-grid_search.best_score_)"
   ]
  },
  {
   "cell_type": "code",
   "execution_count": 58,
   "id": "0261f3d5-1ae9-4b59-9a52-20a101d46438",
   "metadata": {},
   "outputs": [
    {
     "data": {
      "text/plain": [
       "{'mean_fit_time': array([0.07431231, 0.27256622, 0.65971813, 0.09411244, 0.35780349,\n",
       "        1.3388236 , 0.17877245, 0.60800328, 2.40321808, 0.19278922,\n",
       "        0.65445738, 2.02141066, 0.11751475, 0.3016418 , 0.12931142,\n",
       "        0.42284007, 0.14209466, 0.46339059]),\n",
       " 'std_fit_time': array([0.00791847, 0.0358695 , 0.06503915, 0.00271385, 0.05098038,\n",
       "        0.19750748, 0.01464072, 0.02665034, 0.40651397, 0.03169626,\n",
       "        0.06900691, 0.36452693, 0.00771627, 0.01443365, 0.00784023,\n",
       "        0.0294653 , 0.00696672, 0.0053845 ]),\n",
       " 'mean_score_time': array([0.00532293, 0.01764345, 0.03310828, 0.0009891 , 0.01258421,\n",
       "        0.04254127, 0.0063571 , 0.01863995, 0.06138902, 0.00400982,\n",
       "        0.01244097, 0.03581977, 0.00573831, 0.01144147, 0.0001997 ,\n",
       "        0.01128845, 0.        , 0.01337442]),\n",
       " 'std_score_time': array([0.00288936, 0.00542569, 0.0064863 , 0.00197821, 0.00100622,\n",
       "        0.00755162, 0.00171929, 0.00332667, 0.0180687 , 0.00246084,\n",
       "        0.00679972, 0.00545088, 0.00072975, 0.00585067, 0.0003994 ,\n",
       "        0.00588315, 0.        , 0.00518524]),\n",
       " 'param_max_features': masked_array(data=[2, 2, 2, 4, 4, 4, 6, 6, 6, 8, 8, 8, 2, 2, 3, 3, 4, 4],\n",
       "              mask=[False, False, False, False, False, False, False, False,\n",
       "                    False, False, False, False, False, False, False, False,\n",
       "                    False, False],\n",
       "        fill_value='?',\n",
       "             dtype=object),\n",
       " 'param_n_estimators': masked_array(data=[3, 10, 30, 3, 10, 30, 3, 10, 30, 3, 10, 30, 3, 10, 3,\n",
       "                    10, 3, 10],\n",
       "              mask=[False, False, False, False, False, False, False, False,\n",
       "                    False, False, False, False, False, False, False, False,\n",
       "                    False, False],\n",
       "        fill_value='?',\n",
       "             dtype=object),\n",
       " 'param_bootstrap': masked_array(data=[--, --, --, --, --, --, --, --, --, --, --, --, False,\n",
       "                    False, False, False, False, False],\n",
       "              mask=[ True,  True,  True,  True,  True,  True,  True,  True,\n",
       "                     True,  True,  True,  True, False, False, False, False,\n",
       "                    False, False],\n",
       "        fill_value='?',\n",
       "             dtype=object),\n",
       " 'params': [{'max_features': 2, 'n_estimators': 3},\n",
       "  {'max_features': 2, 'n_estimators': 10},\n",
       "  {'max_features': 2, 'n_estimators': 30},\n",
       "  {'max_features': 4, 'n_estimators': 3},\n",
       "  {'max_features': 4, 'n_estimators': 10},\n",
       "  {'max_features': 4, 'n_estimators': 30},\n",
       "  {'max_features': 6, 'n_estimators': 3},\n",
       "  {'max_features': 6, 'n_estimators': 10},\n",
       "  {'max_features': 6, 'n_estimators': 30},\n",
       "  {'max_features': 8, 'n_estimators': 3},\n",
       "  {'max_features': 8, 'n_estimators': 10},\n",
       "  {'max_features': 8, 'n_estimators': 30},\n",
       "  {'bootstrap': False, 'max_features': 2, 'n_estimators': 3},\n",
       "  {'bootstrap': False, 'max_features': 2, 'n_estimators': 10},\n",
       "  {'bootstrap': False, 'max_features': 3, 'n_estimators': 3},\n",
       "  {'bootstrap': False, 'max_features': 3, 'n_estimators': 10},\n",
       "  {'bootstrap': False, 'max_features': 4, 'n_estimators': 3},\n",
       "  {'bootstrap': False, 'max_features': 4, 'n_estimators': 10}],\n",
       " 'split0_test_score': array([-4.09565695e+09, -3.05807222e+09, -2.74992226e+09, -3.56692738e+09,\n",
       "        -2.74287868e+09, -2.61019539e+09, -3.45926392e+09, -2.69266015e+09,\n",
       "        -2.45333522e+09, -3.41159003e+09, -2.70159237e+09, -2.49517790e+09,\n",
       "        -3.66525013e+09, -2.84188516e+09, -3.43034801e+09, -2.90274398e+09,\n",
       "        -3.23616767e+09, -2.54973724e+09]),\n",
       " 'split1_test_score': array([-3.76552319e+09, -2.94663819e+09, -2.73302821e+09, -3.53307861e+09,\n",
       "        -2.67348789e+09, -2.46387722e+09, -3.44842687e+09, -2.61238889e+09,\n",
       "        -2.42444037e+09, -3.29620063e+09, -2.61272571e+09, -2.46395615e+09,\n",
       "        -3.48713287e+09, -2.86054360e+09, -3.56536778e+09, -2.72565443e+09,\n",
       "        -3.30682011e+09, -2.46868394e+09]),\n",
       " 'split2_test_score': array([-4.08468451e+09, -3.11121109e+09, -2.73107334e+09, -3.52649078e+09,\n",
       "        -2.68231617e+09, -2.48273839e+09, -3.54778612e+09, -2.59182775e+09,\n",
       "        -2.41325015e+09, -3.47101538e+09, -2.56900232e+09, -2.44758323e+09,\n",
       "        -3.82901266e+09, -2.93650334e+09, -3.44005948e+09, -2.78715420e+09,\n",
       "        -3.36795190e+09, -2.65210375e+09]),\n",
       " 'split3_test_score': array([-4.06583716e+09, -3.03780011e+09, -2.72408143e+09, -3.62026195e+09,\n",
       "        -2.75054305e+09, -2.45596972e+09, -3.50115021e+09, -2.65005936e+09,\n",
       "        -2.40054401e+09, -3.21275838e+09, -2.68610269e+09, -2.44339318e+09,\n",
       "        -3.62189442e+09, -2.91384972e+09, -3.53262251e+09, -2.58362269e+09,\n",
       "        -3.47160716e+09, -2.62302244e+09]),\n",
       " 'split4_test_score': array([-3.87998987e+09, -3.08174917e+09, -2.76094729e+09, -3.60847349e+09,\n",
       "        -2.78869165e+09, -2.52228930e+09, -3.54617891e+09, -2.73381824e+09,\n",
       "        -2.52714087e+09, -3.43087188e+09, -2.69463520e+09, -2.37480663e+09,\n",
       "        -3.90066391e+09, -3.04896457e+09, -3.70054834e+09, -2.81292508e+09,\n",
       "        -3.40137415e+09, -2.75540325e+09]),\n",
       " 'mean_test_score': array([-3.97833834e+09, -3.04709416e+09, -2.73981051e+09, -3.57104644e+09,\n",
       "        -2.72758349e+09, -2.50701400e+09, -3.50056120e+09, -2.65615088e+09,\n",
       "        -2.44374212e+09, -3.36448726e+09, -2.65281166e+09, -2.44498342e+09,\n",
       "        -3.70079080e+09, -2.92034928e+09, -3.53378922e+09, -2.76242007e+09,\n",
       "        -3.35678420e+09, -2.60979013e+09]),\n",
       " 'std_test_score': array([1.32432559e+08, 5.58753040e+07, 1.35554624e+07, 3.81226435e+07,\n",
       "        4.35218454e+07, 5.64541224e+07, 4.17970547e+07, 5.18745194e+07,\n",
       "        4.52012701e+07, 9.55599762e+07, 5.26648806e+07, 3.95310512e+07,\n",
       "        1.48005132e+08, 7.29087510e+07, 9.82776855e+07, 1.05993914e+08,\n",
       "        8.04264269e+07, 9.66292108e+07]),\n",
       " 'rank_test_score': array([18, 11,  8, 16,  7,  3, 14,  6,  1, 13,  5,  2, 17, 10, 15,  9, 12,\n",
       "         4])}"
      ]
     },
     "execution_count": 58,
     "metadata": {},
     "output_type": "execute_result"
    }
   ],
   "source": [
    "grid_search.cv_results_"
   ]
  }
 ],
 "metadata": {
  "kernelspec": {
   "display_name": "Python 3 (ipykernel)",
   "language": "python",
   "name": "python3"
  },
  "language_info": {
   "codemirror_mode": {
    "name": "ipython",
    "version": 3
   },
   "file_extension": ".py",
   "mimetype": "text/x-python",
   "name": "python",
   "nbconvert_exporter": "python",
   "pygments_lexer": "ipython3",
   "version": "3.9.12"
  }
 },
 "nbformat": 4,
 "nbformat_minor": 5
}
